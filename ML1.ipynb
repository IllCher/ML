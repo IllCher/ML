{
 "cells": [
  {
   "cell_type": "markdown",
   "metadata": {
    "id": "Hq0wc3K0kBqA"
   },
   "source": [
    "# Лабораторная работа 1 по МО"
   ]
  },
  {
   "cell_type": "markdown",
   "metadata": {
    "id": "Hq0wc3K0kBqA"
   },
   "source": [
    "Выбранный набор данных позволяет нам предсказать вероятность появления диабета у инидийских пим в течение 5 лет, исходя из различных медицинских параметров."
   ]
  },
  {
   "cell_type": "code",
   "execution_count": 1167,
   "metadata": {
    "id": "Hq0wc3K0kBqA"
   },
   "outputs": [
    {
     "name": "stdout",
     "output_type": "stream",
     "text": [
      "Times pregnant           0.144531\n",
      "Glucose concentration    0.006510\n",
      "Blood pressure           0.045573\n",
      "Skinfold thickness       0.295573\n",
      "Serum insulin            0.486979\n",
      "BMI                      0.014323\n",
      "Pedigree                 0.000000\n",
      "Age                      0.000000\n",
      "Class                    0.651042\n",
      "dtype: float64\n"
     ]
    }
   ],
   "source": [
    "import pandas as pd\n",
    "dataframe = pd.read_csv('https://raw.githubusercontent.com/jbrownlee/Datasets/master/pima-indians-diabetes.csv', header=None)\n",
    "dataframe.columns = ['Times pregnant', 'Glucose concentration', 'Blood pressure', 'Skinfold thickness', 'Serum insulin',\n",
    "                     'BMI', 'Pedigree', 'Age', 'Class']\n",
    "print(dataframe[dataframe == 0].count(axis=0)/len(dataframe.index))"
   ]
  },
  {
   "cell_type": "markdown",
   "metadata": {
    "id": "Hq0wc3K0kBqA"
   },
   "source": [
    "Как можно заметить многие данные в таблице отсутствуют, но при этом важно отметить, что например отсутствие беременностей является важным статистическим параметром и его не стоит исключать из рассмотрения при этом параметр Serum insulin в половине случаев не имеет о себе данных и его следует исключить из рассмотрения, как и параметр Skinfold thickness, т.к. его данные отсутствуют в трети случаев."
   ]
  },
  {
   "cell_type": "markdown",
   "metadata": {
    "id": "Hq0wc3K0kBqA"
   },
   "source": [
    "Удаляем ненужные столбцы"
   ]
  },
  {
   "cell_type": "code",
   "execution_count": 1168,
   "metadata": {
    "id": "Hq0wc3K0kBqA"
   },
   "outputs": [],
   "source": [
    "del dataframe['Skinfold thickness']\n",
    "del dataframe['Serum insulin']"
   ]
  },
  {
   "cell_type": "markdown",
   "metadata": {
    "id": "Hq0wc3K0kBqA"
   },
   "source": [
    "При этом у нас всё ещё остаются недостающие данные в других атрибутах.Заменим их на стандартное оклонение по столбцам."
   ]
  },
  {
   "cell_type": "code",
   "execution_count": 1169,
   "metadata": {
    "id": "Hq0wc3K0kBqA"
   },
   "outputs": [
    {
     "name": "stdout",
     "output_type": "stream",
     "text": [
      "Times pregnant           0.144531\n",
      "Glucose concentration    0.000000\n",
      "Blood pressure           0.000000\n",
      "BMI                      0.000000\n",
      "Pedigree                 0.000000\n",
      "Age                      0.000000\n",
      "Class                    0.651042\n",
      "dtype: float64\n"
     ]
    }
   ],
   "source": [
    "dataframe['Glucose concentration'] = dataframe['Glucose concentration'].replace(0, dataframe['Glucose concentration'].std())\n",
    "dataframe['Blood pressure'] = dataframe['Blood pressure'].replace(0, dataframe['Blood pressure'].std())\n",
    "dataframe['BMI'] = dataframe['BMI'].replace(0, dataframe['BMI'].std())\n",
    "print(dataframe[dataframe == 0].count(axis=0)/len(dataframe.index))"
   ]
  },
  {
   "cell_type": "markdown",
   "metadata": {
    "id": "Hq0wc3K0kBqA"
   },
   "source": [
    "Вывод статистических данных для атрибутов:"
   ]
  },
  {
   "cell_type": "code",
   "execution_count": 1170,
   "metadata": {
    "id": "Hq0wc3K0kBqA"
   },
   "outputs": [
    {
     "name": "stdout",
     "output_type": "stream",
     "text": [
      "   Times pregnant  Glucose concentration  Blood pressure   BMI  Pedigree  Age  \\\n",
      "0               6                  148.0            72.0  33.6     0.627   50   \n",
      "1               1                   85.0            66.0  26.6     0.351   31   \n",
      "2               8                  183.0            64.0  23.3     0.672   32   \n",
      "3               1                   89.0            66.0  28.1     0.167   21   \n",
      "4               0                  137.0            40.0  43.1     2.288   33   \n",
      "\n",
      "   Class  \n",
      "0      1  \n",
      "1      0  \n",
      "2      1  \n",
      "3      0  \n",
      "4      1  \n",
      "Размеры: (768, 7)\n",
      "Устройство:\n",
      " Times pregnant             int64\n",
      "Glucose concentration    float64\n",
      "Blood pressure           float64\n",
      "BMI                      float64\n",
      "Pedigree                 float64\n",
      "Age                        int64\n",
      "Class                      int64\n",
      "dtype: object\n"
     ]
    }
   ],
   "source": [
    "print(dataframe.head())\n",
    "print(\"Размеры:\",dataframe.shape)\n",
    "print(\"Устройство:\\n\",dataframe.dtypes)"
   ]
  },
  {
   "cell_type": "code",
   "execution_count": 1171,
   "metadata": {
    "id": "Hq0wc3K0kBqA"
   },
   "outputs": [
    {
     "data": {
      "text/plain": [
       "array([[<AxesSubplot:title={'center':'Times pregnant'}>,\n",
       "        <AxesSubplot:title={'center':'Age'}>,\n",
       "        <AxesSubplot:title={'center':'BMI'}>],\n",
       "       [<AxesSubplot:title={'center':'Blood pressure'}>,\n",
       "        <AxesSubplot:title={'center':'Pedigree'}>,\n",
       "        <AxesSubplot:title={'center':'Glucose concentration'}>],\n",
       "       [<AxesSubplot:title={'center':'Class'}>, <AxesSubplot:>,\n",
       "        <AxesSubplot:>]], dtype=object)"
      ]
     },
     "execution_count": 1171,
     "metadata": {},
     "output_type": "execute_result"
    },
    {
     "data": {
      "image/png": "[encoded data removed]",
      "text/plain": [
       "<Figure size 1440x720 with 9 Axes>"
      ]
     },
     "metadata": {
      "needs_background": "light"
     },
     "output_type": "display_data"
    }
   ],
   "source": [
    "features = list(set(dataframe.columns))\n",
    "dataframe[features].hist(figsize=(20,10))"
   ]
  },
  {
   "cell_type": "markdown",
   "metadata": {
    "id": "Hq0wc3K0kBqA"
   },
   "source": [
    "Можно заметить, что некоторые параметры распределены нормально:Blood pressure, Glucose concentration, BMI.\n",
    "Причем многие распределения похожи на экспоненциальное распределение:Pedigree, Age, Times pregnant."
   ]
  },
  {
   "cell_type": "markdown",
   "metadata": {
    "id": "Hq0wc3K0kBqA"
   },
   "source": [
    "####Алгоритм K-ближайших соседей"
   ]
  },
  {
   "cell_type": "markdown",
   "metadata": {
    "colab": {
     "base_uri": "https://localhost:8080/",
     "height": 1000
    },
    "id": "0U7R5bUXuvqh",
    "outputId": "6b46cd0b-ae73-48b6-9e97-cda5553c69b5"
   },
   "source": [
    "Требуемые библиотеки для моей и стандартной реализации:\n",
    "    "
   ]
  },
  {
   "cell_type": "code",
   "execution_count": 1172,
   "metadata": {
    "colab": {
     "base_uri": "https://localhost:8080/",
     "height": 1000
    },
    "id": "0U7R5bUXuvqh",
    "outputId": "6b46cd0b-ae73-48b6-9e97-cda5553c69b5"
   },
   "outputs": [],
   "source": [
    "import math\n",
    "import numpy as np\n",
    "import matplotlib.pyplot as plt\n",
    "import pandas as pd\n",
    "import sklearn\n",
    "from sklearn import metrics  \n",
    "from sklearn.metrics import accuracy_score\n",
    "from sklearn.metrics import classification_report\n",
    "from sklearn.model_selection import train_test_split\n",
    "from sklearn.neighbors import KNeighborsClassifier\n",
    "from sklearn.preprocessing import MinMaxScaler"
   ]
  },
  {
   "cell_type": "markdown",
   "metadata": {
    "colab": {
     "base_uri": "https://localhost:8080/",
     "height": 1000
    },
    "id": "0U7R5bUXuvqh",
    "outputId": "6b46cd0b-ae73-48b6-9e97-cda5553c69b5"
   },
   "source": [
    "Реализация алгоритма K-ближайших соседей"
   ]
  },
  {
   "cell_type": "code",
   "execution_count": 1173,
   "metadata": {
    "colab": {
     "base_uri": "https://localhost:8080/",
     "height": 1000
    },
    "id": "0U7R5bUXuvqh",
    "outputId": "6b46cd0b-ae73-48b6-9e97-cda5553c69b5"
   },
   "outputs": [],
   "source": [
    "def weighted_knn(data, p, k):\n",
    "    distance = []\n",
    "    for element in data:\n",
    "        euclidean_distance = math.sqrt(\n",
    "            (element[1][0] - p[0]) ** 2 + (element[1][1] - p[1]) ** 2 + (element[1][2] - p[2]) ** 2 + (element[1][3] - p[3]) ** 2 + (\n",
    "                    element[1][4] - p[4]) ** 2 + (element[1][5] - p[5]) ** 2)\n",
    "        distance.append((euclidean_distance, element[0]))\n",
    "    distance = sorted(distance)[:k]\n",
    "    freq1 = 0\n",
    "    freq2 = 0\n",
    "    for d in distance:\n",
    "        if d[1] == 0:\n",
    "            freq1 += (1 / d[0])\n",
    "\n",
    "        elif d[1] == 1:\n",
    "            freq2 += (1 / d[0])\n",
    "\n",
    "    return 0 if freq1 > freq2 else 1"
   ]
  },
  {
   "cell_type": "markdown",
   "metadata": {
    "colab": {
     "base_uri": "https://localhost:8080/",
     "height": 1000
    },
    "id": "0U7R5bUXuvqh",
    "outputId": "6b46cd0b-ae73-48b6-9e97-cda5553c69b5"
   },
   "source": [
    "Подгружаем данные и переводим их в удобный формат:\n",
    "    "
   ]
  },
  {
   "cell_type": "code",
   "execution_count": 1174,
   "metadata": {
    "colab": {
     "base_uri": "https://localhost:8080/",
     "height": 1000
    },
    "id": "0U7R5bUXuvqh",
    "outputId": "6b46cd0b-ae73-48b6-9e97-cda5553c69b5"
   },
   "outputs": [],
   "source": [
    "X = dataframe.iloc[:, :-1].values\n",
    "Y = dataframe.iloc[:, 6].values\n",
    "k = 37"
   ]
  },
  {
   "cell_type": "markdown",
   "metadata": {
    "colab": {
     "base_uri": "https://localhost:8080/",
     "height": 1000
    },
    "id": "0U7R5bUXuvqh",
    "outputId": "6b46cd0b-ae73-48b6-9e97-cda5553c69b5"
   },
   "source": [
    "Разделяем данные на тестовую и обучающие выборки:\n",
    "    "
   ]
  },
  {
   "cell_type": "code",
   "execution_count": 1175,
   "metadata": {
    "colab": {
     "base_uri": "https://localhost:8080/",
     "height": 1000
    },
    "id": "0U7R5bUXuvqh",
    "outputId": "6b46cd0b-ae73-48b6-9e97-cda5553c69b5"
   },
   "outputs": [],
   "source": [
    "X_train, X_test, Y_train, Y_test = train_test_split(X, Y, test_size=0.2,  random_state=0)\n",
    "trans = MinMaxScaler()"
   ]
  },
  {
   "cell_type": "markdown",
   "metadata": {
    "colab": {
     "base_uri": "https://localhost:8080/",
     "height": 1000
    },
    "id": "0U7R5bUXuvqh",
    "outputId": "6b46cd0b-ae73-48b6-9e97-cda5553c69b5"
   },
   "source": [
    "Нормализуем данные:"
   ]
  },
  {
   "cell_type": "code",
   "execution_count": 1176,
   "metadata": {
    "colab": {
     "base_uri": "https://localhost:8080/",
     "height": 1000
    },
    "id": "0U7R5bUXuvqh",
    "outputId": "6b46cd0b-ae73-48b6-9e97-cda5553c69b5"
   },
   "outputs": [],
   "source": [
    "X_train = trans.fit_transform(X_train)\n",
    "X_test = trans.fit_transform(X_test)"
   ]
  },
  {
   "cell_type": "markdown",
   "metadata": {
    "colab": {
     "base_uri": "https://localhost:8080/",
     "height": 1000
    },
    "id": "0U7R5bUXuvqh",
    "outputId": "6b46cd0b-ae73-48b6-9e97-cda5553c69b5"
   },
   "source": [
    "Переводим данные в удобный формат:"
   ]
  },
  {
   "cell_type": "code",
   "execution_count": 1177,
   "metadata": {
    "colab": {
     "base_uri": "https://localhost:8080/",
     "height": 1000
    },
    "id": "0U7R5bUXuvqh",
    "outputId": "6b46cd0b-ae73-48b6-9e97-cda5553c69b5"
   },
   "outputs": [],
   "source": [
    "df_listed_train = list(zip(Y_train, X_train))\n",
    "df_listed_test = list(zip(Y_test, X_test))"
   ]
  },
  {
   "cell_type": "markdown",
   "metadata": {
    "colab": {
     "base_uri": "https://localhost:8080/",
     "height": 1000
    },
    "id": "0U7R5bUXuvqh",
    "outputId": "6b46cd0b-ae73-48b6-9e97-cda5553c69b5"
   },
   "source": [
    "Стандартная реализация через sklearn"
   ]
  },
  {
   "cell_type": "code",
   "execution_count": 1178,
   "metadata": {
    "colab": {
     "base_uri": "https://localhost:8080/",
     "height": 1000
    },
    "id": "0U7R5bUXuvqh",
    "outputId": "6b46cd0b-ae73-48b6-9e97-cda5553c69b5"
   },
   "outputs": [
    {
     "name": "stdout",
     "output_type": "stream",
     "text": [
      "Статистика для стандартной реализации:\n",
      " 0.8376623376623377 при k = 37\n"
     ]
    }
   ],
   "source": [
    "classifier = KNeighborsClassifier(metric = 'minkowski', p = 2, n_neighbors=k)\n",
    "classifier.fit(X_train, Y_train)\n",
    "Y_pred = classifier.predict(X_test)\n",
    "accuracy = metrics.accuracy_score(Y_pred,Y_test)   \n",
    "print(\"Статистика для стандартной реализации:\\n\", accuracy, \"при k =\", k)"
   ]
  },
  {
   "cell_type": "markdown",
   "metadata": {
    "colab": {
     "base_uri": "https://localhost:8080/",
     "height": 1000
    },
    "id": "0U7R5bUXuvqh",
    "outputId": "6b46cd0b-ae73-48b6-9e97-cda5553c69b5"
   },
   "source": [
    "Проверка собственной реализации:\n",
    "    "
   ]
  },
  {
   "cell_type": "code",
   "execution_count": 1179,
   "metadata": {
    "colab": {
     "base_uri": "https://localhost:8080/",
     "height": 1000
    },
    "id": "0U7R5bUXuvqh",
    "outputId": "6b46cd0b-ae73-48b6-9e97-cda5553c69b5"
   },
   "outputs": [
    {
     "name": "stdout",
     "output_type": "stream",
     "text": [
      "Вероятность успеха реализованным мной методом: 0.8311688311688312 при k = 37\n"
     ]
    }
   ],
   "source": [
    "My_success = 0\n",
    "for element in df_listed_test:\n",
    "    if element[0] == weighted_knn(df_listed_train, element[1], k):\n",
    "        My_success += 1       \n",
    "print(\"Вероятность успеха реализованным мной методом:\", My_success / len(df_listed_test), \"при k =\", k)"
   ]
  },
  {
   "cell_type": "markdown",
   "metadata": {
    "colab": {
     "base_uri": "https://localhost:8080/",
     "height": 1000
    },
    "id": "0U7R5bUXuvqh",
    "outputId": "6b46cd0b-ae73-48b6-9e97-cda5553c69b5"
   },
   "source": [
    "Рассмотрим график зависимости ошибки от значения k:"
   ]
  },
  {
   "cell_type": "code",
   "execution_count": 1180,
   "metadata": {
    "colab": {
     "base_uri": "https://localhost:8080/",
     "height": 1000
    },
    "id": "0U7R5bUXuvqh",
    "outputId": "6b46cd0b-ae73-48b6-9e97-cda5553c69b5",
    "scrolled": false
   },
   "outputs": [
    {
     "data": {
      "text/plain": [
       "Text(0, 0.5, 'Mean Error')"
      ]
     },
     "execution_count": 1180,
     "metadata": {},
     "output_type": "execute_result"
    },
    {
     "data": {
      "image/png": "[encoded data removed]",
      "text/plain": [
       "<Figure size 864x432 with 1 Axes>"
      ]
     },
     "metadata": {
      "needs_background": "light"
     },
     "output_type": "display_data"
    }
   ],
   "source": [
    "error = []\n",
    "for i in range(1, 40):\n",
    "    knn = KNeighborsClassifier(n_neighbors=i)\n",
    "    knn.fit(X_train, Y_train)\n",
    "    pred_i = knn.predict(X_test)\n",
    "    error.append(np.mean(pred_i != Y_test))\n",
    "plt.figure(figsize=(12, 6))\n",
    "plt.plot(range(1, 40), error, color='red', linestyle='dashed', marker='o',\n",
    "         markerfacecolor='blue', markersize=10)\n",
    "plt.title('Error Rate K Value')\n",
    "plt.xlabel('K Value')\n",
    "plt.ylabel('Mean Error')"
   ]
  },
  {
   "cell_type": "markdown",
   "metadata": {
    "colab": {
     "base_uri": "https://localhost:8080/",
     "height": 1000
    },
    "id": "0U7R5bUXuvqh",
    "outputId": "6b46cd0b-ae73-48b6-9e97-cda5553c69b5"
   },
   "source": [
    "Как можем заметить ошибка наименее вероятна при кол-ве соседей равным 37."
   ]
  },
  {
   "cell_type": "markdown",
   "metadata": {
    "colab": {
     "base_uri": "https://localhost:8080/",
     "height": 1000
    },
    "id": "0U7R5bUXuvqh",
    "outputId": "6b46cd0b-ae73-48b6-9e97-cda5553c69b5"
   },
   "source": [
    "####Алгоритм наивного Байесовского классификатора"
   ]
  },
  {
   "cell_type": "markdown",
   "metadata": {
    "colab": {
     "base_uri": "https://localhost:8080/",
     "height": 1000
    },
    "id": "0U7R5bUXuvqh",
    "outputId": "6b46cd0b-ae73-48b6-9e97-cda5553c69b5"
   },
   "source": [
    "Требуемые библиотеки для моей и стандартной реализации:"
   ]
  },
  {
   "cell_type": "code",
   "execution_count": 1181,
   "metadata": {
    "colab": {
     "base_uri": "https://localhost:8080/",
     "height": 1000
    },
    "id": "0U7R5bUXuvqh",
    "outputId": "6b46cd0b-ae73-48b6-9e97-cda5553c69b5"
   },
   "outputs": [],
   "source": [
    "from math import sqrt\n",
    "from math import exp\n",
    "from math import pi\n",
    "import random\n",
    "import pandas as pd\n",
    "import sklearn\n",
    "from sklearn.metrics import classification_report, accuracy_score\n",
    "from sklearn.model_selection import train_test_split\n",
    "from sklearn.naive_bayes import GaussianNB"
   ]
  },
  {
   "cell_type": "markdown",
   "metadata": {
    "colab": {
     "base_uri": "https://localhost:8080/",
     "height": 1000
    },
    "id": "0U7R5bUXuvqh",
    "outputId": "6b46cd0b-ae73-48b6-9e97-cda5553c69b5"
   },
   "source": [
    "Функции для реализации наивного Байесовского классификатора:"
   ]
  },
  {
   "cell_type": "code",
   "execution_count": 1182,
   "metadata": {
    "colab": {
     "base_uri": "https://localhost:8080/",
     "height": 1000
    },
    "id": "0U7R5bUXuvqh",
    "outputId": "6b46cd0b-ae73-48b6-9e97-cda5553c69b5"
   },
   "outputs": [],
   "source": [
    "#разделяем обучающий набор по классам\n",
    "def separate_by_class(dataset):\n",
    "    tmp_dictionary = dict()\n",
    "    for i in range(len(dataset)):\n",
    "        vector = dataset[i]\n",
    "        class_type = vector[-1]\n",
    "        if (class_type not in tmp_dictionary):\n",
    "            tmp_dictionary[class_type] = list()\n",
    "        tmp_dictionary[class_type].append(vector)\n",
    "    return tmp_dictionary\n",
    "\n",
    "#рассчет среднего для атрибутов\n",
    "def mean(numbers):\n",
    "    return sum(numbers) / float(len(numbers))\n",
    "\n",
    "#рассчет стандартного отклонения\n",
    "def standart_deviation(numbers):\n",
    "    avg = mean(numbers)\n",
    "    variance = sum([(x - avg) ** 2 for x in numbers]) / float(len(numbers) - 1)\n",
    "    return sqrt(variance)\n",
    "\n",
    "#рассчет mean и standart_deviation для атрибутов\n",
    "def attributes_count(dataset):\n",
    "    summaries = [(mean(column), standart_deviation(column), len(column)) for column in zip(*dataset)]\n",
    "    del (summaries[-1])\n",
    "    return summaries\n",
    "\n",
    "\n",
    "#делим наш набор по классам и считаем attributes_count\n",
    "def attributes_by_class(dataset):\n",
    "    classed = separate_by_class(dataset)\n",
    "    result = dict()\n",
    "    for class_value, rows in classed.items():\n",
    "        result[class_value] = attributes_count(rows)\n",
    "    return result\n",
    "\n",
    "#вычисляем Гауссовскую функцию плотности вероятности\n",
    "def calculate_prob(x, mean, standart_deviation):\n",
    "    exponent = exp(-((x - mean) ** 2 / (2 * standart_deviation ** 2)))\n",
    "    return (1 / (sqrt(2 * pi) * standart_deviation)) * exponent\n",
    "\n",
    "#отображение значений классов на вероятности\n",
    "def class_probs(summaries, row):\n",
    "    total_rows = sum([summaries[label][0][2] for label in summaries])\n",
    "    probabilities = dict()\n",
    "    for class_value, class_summaries in summaries.items():\n",
    "        probabilities[class_value] = summaries[class_value][0][2] / float(total_rows)\n",
    "        for i in range(len(class_summaries)):\n",
    "            mean, standart_deviation, _ = class_summaries[i]\n",
    "            probabilities[class_value] *= calculate_prob(row[i], mean, standart_deviation)\n",
    "    return probabilities\n",
    "\n",
    "#делаем предсказание\n",
    "def predict(summaries, row):\n",
    "    probabilities = class_probs(summaries, row)\n",
    "    best_label, best_prob = None, -1\n",
    "    for class_value, probability in probabilities.items():\n",
    "        if best_label is None or probability > best_prob:\n",
    "            best_prob = probability\n",
    "            best_label = class_value\n",
    "    return best_label"
   ]
  },
  {
   "cell_type": "markdown",
   "metadata": {
    "colab": {
     "base_uri": "https://localhost:8080/",
     "height": 1000
    },
    "id": "0U7R5bUXuvqh",
    "outputId": "6b46cd0b-ae73-48b6-9e97-cda5553c69b5"
   },
   "source": [
    "Подгружаем данные и переводим их в удобный формат:"
   ]
  },
  {
   "cell_type": "code",
   "execution_count": 1183,
   "metadata": {
    "colab": {
     "base_uri": "https://localhost:8080/",
     "height": 1000
    },
    "id": "0U7R5bUXuvqh",
    "outputId": "6b46cd0b-ae73-48b6-9e97-cda5553c69b5"
   },
   "outputs": [],
   "source": [
    "X = dataframe.iloc[:, :-1].values\n",
    "Y = dataframe.iloc[:, 6].values\n",
    "Z = dataframe.iloc[:, :].values\n",
    "Z_train, Z_test = train_test_split(Z, test_size=0.2, random_state=0)"
   ]
  },
  {
   "cell_type": "markdown",
   "metadata": {
    "colab": {
     "base_uri": "https://localhost:8080/",
     "height": 1000
    },
    "id": "0U7R5bUXuvqh",
    "outputId": "6b46cd0b-ae73-48b6-9e97-cda5553c69b5"
   },
   "source": [
    "Вывод результатов и сами рассчеты для метода реализации через sklearn:"
   ]
  },
  {
   "cell_type": "code",
   "execution_count": 1184,
   "metadata": {
    "colab": {
     "base_uri": "https://localhost:8080/",
     "height": 1000
    },
    "id": "0U7R5bUXuvqh",
    "outputId": "6b46cd0b-ae73-48b6-9e97-cda5553c69b5"
   },
   "outputs": [
    {
     "name": "stdout",
     "output_type": "stream",
     "text": [
      "Статистика для стандартной реализации:\n",
      " 0.7987012987012987\n"
     ]
    }
   ],
   "source": [
    "X_train, X_test, Y_train, Y_test = train_test_split(X, Y, test_size=0.2, random_state=0)\n",
    "gnb = GaussianNB()\n",
    "Y_pred = gnb.fit(X_train, Y_train).predict(X_test)\n",
    "\n",
    "standart_success = 0\n",
    "my_success = 0\n",
    "for i, j in zip(Y_test, Y_pred):\n",
    "    if i == j:\n",
    "        standart_success += 1\n",
    "print(\"Статистика для стандартной реализации:\\n\", standart_success / len(Y_pred))"
   ]
  },
  {
   "cell_type": "markdown",
   "metadata": {
    "colab": {
     "base_uri": "https://localhost:8080/",
     "height": 1000
    },
    "id": "0U7R5bUXuvqh",
    "outputId": "6b46cd0b-ae73-48b6-9e97-cda5553c69b5"
   },
   "source": [
    "Вывод и подсчет результатов для самостоятельно реализованного алгоритма:"
   ]
  },
  {
   "cell_type": "code",
   "execution_count": 1185,
   "metadata": {
    "colab": {
     "base_uri": "https://localhost:8080/",
     "height": 1000
    },
    "id": "0U7R5bUXuvqh",
    "outputId": "6b46cd0b-ae73-48b6-9e97-cda5553c69b5"
   },
   "outputs": [
    {
     "name": "stdout",
     "output_type": "stream",
     "text": [
      "Статистика для моей реализации:\n",
      " 0.8051948051948052\n"
     ]
    }
   ],
   "source": [
    "model = attributes_by_class(Z_train)\n",
    "for i in Z_test:\n",
    "    if i[-1] == predict(model, i):\n",
    "        my_success += 1\n",
    "print(\"Статистика для моей реализации:\\n\", my_success / len(Z_test))"
   ]
  }
 ],
 "metadata": {
  "colab": {
   "collapsed_sections": [],
   "name": "ML1.ipynb",
   "provenance": []
  },
  "kernelspec": {
   "display_name": "Python 3",
   "language": "python",
   "name": "python3"
  },
  "language_info": {
   "codemirror_mode": {
    "name": "ipython",
    "version": 3
   },
   "file_extension": ".py",
   "mimetype": "text/x-python",
   "name": "python",
   "nbconvert_exporter": "python",
   "pygments_lexer": "ipython3",
   "version": "3.8.5"
  }
 },
 "nbformat": 4,
 "nbformat_minor": 1
}
