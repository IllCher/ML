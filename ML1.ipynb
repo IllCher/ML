{
 "cells": [
  {
   "cell_type": "markdown",
   "metadata": {
    "id": "Hq0wc3K0kBqA"
   },
   "source": [
    "# Лабораторная работа 1 по МО\n",
    "####Алгоритм K-ближайших соседей"
   ]
  },
  {
   "cell_type": "markdown",
   "metadata": {
    "colab": {
     "base_uri": "https://localhost:8080/",
     "height": 1000
    },
    "id": "0U7R5bUXuvqh",
    "outputId": "6b46cd0b-ae73-48b6-9e97-cda5553c69b5"
   },
   "source": [
    "Требуемые библиотеки для моей и стандартной реализации:\n",
    "    "
   ]
  },
  {
   "cell_type": "code",
   "execution_count": null,
   "metadata": {
    "colab": {
     "base_uri": "https://localhost:8080/",
     "height": 1000
    },
    "id": "0U7R5bUXuvqh",
    "outputId": "6b46cd0b-ae73-48b6-9e97-cda5553c69b5"
   },
   "outputs": [],
   "source": [
    "import math\n",
    "import numpy as np\n",
    "import matplotlib.pyplot as plt\n",
    "import pandas as pd\n",
    "from sklearn.metrics import classification_report\n",
    "from sklearn.model_selection import train_test_split\n",
    "from sklearn.neighbors import KNeighborsClassifier"
   ]
  },
  {
   "cell_type": "markdown",
   "metadata": {
    "colab": {
     "base_uri": "https://localhost:8080/",
     "height": 1000
    },
    "id": "0U7R5bUXuvqh",
    "outputId": "6b46cd0b-ae73-48b6-9e97-cda5553c69b5"
   },
   "source": [
    "Реализация алгоритма K-ближайших соседей"
   ]
  },
  {
   "cell_type": "code",
   "execution_count": null,
   "metadata": {
    "colab": {
     "base_uri": "https://localhost:8080/",
     "height": 1000
    },
    "id": "0U7R5bUXuvqh",
    "outputId": "6b46cd0b-ae73-48b6-9e97-cda5553c69b5"
   },
   "outputs": [],
   "source": [
    "def weighted_knn(data, p, k):\n",
    "    distance = []\n",
    "    for element in data:\n",
    "        euclidean_distance = math.sqrt(\n",
    "            (element[1][0] - p[0]) ** 2 + (element[1][1] - p[1]) ** 2 + (element[1][2] - p[2]) ** 2 + (element[1][3] - p[3]) ** 2 + (\n",
    "                    element[1][4] - p[4]) ** 2 + (element[1][5] - p[5]) ** 2 + (element[1][6] - p[6]) ** 2 + (element[1][7] - p[7]) ** 2)\n",
    "        distance.append((euclidean_distance, element[0]))\n",
    "    distance = sorted(distance)[:k]\n",
    "    freq1 = 0\n",
    "    freq2 = 0\n",
    "    for d in distance:\n",
    "        if d[1] == 0:\n",
    "            freq1 += (1 / d[0])\n",
    "\n",
    "        elif d[1] == 1:\n",
    "            freq2 += (1 / d[0])\n",
    "\n",
    "    return 0 if freq1 > freq2 else 1"
   ]
  },
  {
   "cell_type": "markdown",
   "metadata": {
    "colab": {
     "base_uri": "https://localhost:8080/",
     "height": 1000
    },
    "id": "0U7R5bUXuvqh",
    "outputId": "6b46cd0b-ae73-48b6-9e97-cda5553c69b5"
   },
   "source": [
    "Подгружаем данные и переводим их в удобный формат:\n",
    "    "
   ]
  },
  {
   "cell_type": "code",
   "execution_count": null,
   "metadata": {
    "colab": {
     "base_uri": "https://localhost:8080/",
     "height": 1000
    },
    "id": "0U7R5bUXuvqh",
    "outputId": "6b46cd0b-ae73-48b6-9e97-cda5553c69b5"
   },
   "outputs": [],
   "source": [
    "dataframe = pd.read_csv('https://raw.githubusercontent.com/jbrownlee/Datasets/master/pima-indians-diabetes.csv',\n",
    "                        header=None)\n",
    "dataframe.columns = ['Times pregnant', 'Glucose concentration', 'Blood pressure', 'Skinfold thickness', 'serum insulin',\n",
    "                     'BMI', 'Pedigree', 'Age', 'Class']\n",
    "X = dataframe.iloc[:, :-1].values\n",
    "Y = dataframe.iloc[:, 8].values\n",
    "k = 15"
   ]
  },
  {
   "cell_type": "markdown",
   "metadata": {
    "colab": {
     "base_uri": "https://localhost:8080/",
     "height": 1000
    },
    "id": "0U7R5bUXuvqh",
    "outputId": "6b46cd0b-ae73-48b6-9e97-cda5553c69b5"
   },
   "source": [
    "Разделяем данные на тестовую и обучающие выборки и переводим их в удобный формат:\n",
    "    "
   ]
  },
  {
   "cell_type": "code",
   "execution_count": null,
   "metadata": {
    "colab": {
     "base_uri": "https://localhost:8080/",
     "height": 1000
    },
    "id": "0U7R5bUXuvqh",
    "outputId": "6b46cd0b-ae73-48b6-9e97-cda5553c69b5"
   },
   "outputs": [],
   "source": [
    "X_train, X_test, Y_train, Y_test = train_test_split(X, Y, test_size=0.20)\n",
    "df_listed_train = list(zip(Y_train, X_train))\n",
    "df_listed_test = list(zip(Y_test, X_test))"
   ]
  },
  {
   "cell_type": "markdown",
   "metadata": {
    "colab": {
     "base_uri": "https://localhost:8080/",
     "height": 1000
    },
    "id": "0U7R5bUXuvqh",
    "outputId": "6b46cd0b-ae73-48b6-9e97-cda5553c69b5"
   },
   "source": [
    "Стандартная реализация через sklearn"
   ]
  },
  {
   "cell_type": "code",
   "execution_count": null,
   "metadata": {
    "colab": {
     "base_uri": "https://localhost:8080/",
     "height": 1000
    },
    "id": "0U7R5bUXuvqh",
    "outputId": "6b46cd0b-ae73-48b6-9e97-cda5553c69b5"
   },
   "outputs": [],
   "source": [
    "classifier = KNeighborsClassifier(n_neighbors=k)\n",
    "classifier.fit(X_train, Y_train)\n",
    "Y_pred = classifier.predict(X_test)\n",
    "print(\"Статистика для стандартной реализации:\\n\", classification_report(Y_test, Y_pred))"
   ]
  },
  {
   "cell_type": "markdown",
   "metadata": {
    "colab": {
     "base_uri": "https://localhost:8080/",
     "height": 1000
    },
    "id": "0U7R5bUXuvqh",
    "outputId": "6b46cd0b-ae73-48b6-9e97-cda5553c69b5"
   },
   "source": [
    "Проверка собственной реализации:\n",
    "    "
   ]
  },
  {
   "cell_type": "code",
   "execution_count": 8,
   "metadata": {
    "colab": {
     "base_uri": "https://localhost:8080/",
     "height": 1000
    },
    "id": "0U7R5bUXuvqh",
    "outputId": "6b46cd0b-ae73-48b6-9e97-cda5553c69b5"
   },
   "outputs": [
    {
     "name": "stdout",
     "output_type": "stream",
     "text": [
      "Вероятность успеха реализованным мной методом: 0.7012987012987013\n",
      "Статистика для стандартной реализации:\n",
      "               precision    recall  f1-score   support\n",
      "\n",
      "           0       0.77      0.80      0.78       102\n",
      "           1       0.57      0.52      0.55        52\n",
      "\n",
      "    accuracy                           0.71       154\n",
      "   macro avg       0.67      0.66      0.67       154\n",
      "weighted avg       0.70      0.71      0.70       154\n",
      "\n"
     ]
    }
   ],
   "source": [
    "My_success = 0\n",
    "for element in df_listed_test:\n",
    "    if element[0] == weighted_knn(df_listed_train, element[1], k):\n",
    "        My_success += 1\n",
    "print(\"Вероятность успеха реализованным мной методом:\", My_success / len(df_listed_test))"
   ]
  },
  {
   "cell_type": "markdown",
   "metadata": {
    "colab": {
     "base_uri": "https://localhost:8080/",
     "height": 1000
    },
    "id": "0U7R5bUXuvqh",
    "outputId": "6b46cd0b-ae73-48b6-9e97-cda5553c69b5"
   },
   "source": [
    "Рассмотрим график зависимости ошибки от значения k:"
   ]
  },
  {
   "cell_type": "code",
   "execution_count": 12,
   "metadata": {
    "colab": {
     "base_uri": "https://localhost:8080/",
     "height": 1000
    },
    "id": "0U7R5bUXuvqh",
    "outputId": "6b46cd0b-ae73-48b6-9e97-cda5553c69b5",
    "scrolled": false
   },
   "outputs": [
    {
     "data": {
      "text/plain": [
       "Text(0, 0.5, 'Mean Error')"
      ]
     },
     "execution_count": 12,
     "metadata": {},
     "output_type": "execute_result"
    },
    {
     "data": {
      "image/png": "[encoded data removed]",
      "text/plain": [
       "<Figure size 864x432 with 1 Axes>"
      ]
     },
     "metadata": {
      "needs_background": "light"
     },
     "output_type": "display_data"
    }
   ],
   "source": [
    "error = []\n",
    "for i in range(1, 40):\n",
    "    knn = KNeighborsClassifier(n_neighbors=i)\n",
    "    knn.fit(X_train, Y_train)\n",
    "    pred_i = knn.predict(X_test)\n",
    "    error.append(np.mean(pred_i != Y_test))\n",
    "plt.figure(figsize=(12, 6))\n",
    "plt.plot(range(1, 40), error, color='red', linestyle='dashed', marker='o',\n",
    "         markerfacecolor='blue', markersize=10)\n",
    "plt.title('Error Rate K Value')\n",
    "plt.xlabel('K Value')\n",
    "plt.ylabel('Mean Error')\n"
   ]
  },
  {
   "cell_type": "markdown",
   "metadata": {
    "colab": {
     "base_uri": "https://localhost:8080/",
     "height": 1000
    },
    "id": "0U7R5bUXuvqh",
    "outputId": "6b46cd0b-ae73-48b6-9e97-cda5553c69b5"
   },
   "source": [
    "####Алгоритм наивного Байесовского классификатора"
   ]
  },
  {
   "cell_type": "markdown",
   "metadata": {
    "colab": {
     "base_uri": "https://localhost:8080/",
     "height": 1000
    },
    "id": "0U7R5bUXuvqh",
    "outputId": "6b46cd0b-ae73-48b6-9e97-cda5553c69b5"
   },
   "source": [
    "Требуемые библиотеки для моей и стандартной реализации:"
   ]
  },
  {
   "cell_type": "code",
   "execution_count": null,
   "metadata": {
    "colab": {
     "base_uri": "https://localhost:8080/",
     "height": 1000
    },
    "id": "0U7R5bUXuvqh",
    "outputId": "6b46cd0b-ae73-48b6-9e97-cda5553c69b5"
   },
   "outputs": [],
   "source": [
    "from math import sqrt\n",
    "from math import exp\n",
    "from math import pi\n",
    "import random\n",
    "import pandas as pd\n",
    "from sklearn.metrics import classification_report, accuracy_score\n",
    "from sklearn.model_selection import train_test_split\n",
    "from sklearn.naive_bayes import GaussianNB"
   ]
  },
  {
   "cell_type": "markdown",
   "metadata": {
    "colab": {
     "base_uri": "https://localhost:8080/",
     "height": 1000
    },
    "id": "0U7R5bUXuvqh",
    "outputId": "6b46cd0b-ae73-48b6-9e97-cda5553c69b5"
   },
   "source": [
    "Функции для реализации наивного Байесовского классификатора:"
   ]
  },
  {
   "cell_type": "code",
   "execution_count": null,
   "metadata": {
    "colab": {
     "base_uri": "https://localhost:8080/",
     "height": 1000
    },
    "id": "0U7R5bUXuvqh",
    "outputId": "6b46cd0b-ae73-48b6-9e97-cda5553c69b5"
   },
   "outputs": [],
   "source": [
    "#разделяем обучающий набор по классам\n",
    "def separate_by_class(dataset):\n",
    "    tmp_dictionary = dict()\n",
    "    for i in range(len(dataset)):\n",
    "        vector = dataset[i]\n",
    "        class_type = vector[-1]\n",
    "        if (class_type not in tmp_dictionary):\n",
    "            tmp_dictionary[class_type] = list()\n",
    "        tmp_dictionary[class_type].append(vector)\n",
    "    return tmp_dictionary\n",
    "\n",
    "#рассчет среднего для атрибутов\n",
    "def mean(numbers):\n",
    "    return sum(numbers) / float(len(numbers))\n",
    "\n",
    "#рассчет стандартного отклонения\n",
    "def standart_deviation(numbers):\n",
    "    avg = mean(numbers)\n",
    "    variance = sum([(x - avg) ** 2 for x in numbers]) / float(len(numbers) - 1)\n",
    "    return sqrt(variance)\n",
    "\n",
    "#рассчет mean и standart_deviation для атрибутов\n",
    "def attributes_count(dataset):\n",
    "    summaries = [(mean(column), standart_deviation(column), len(column)) for column in zip(*dataset)]\n",
    "    del (summaries[-1])\n",
    "    return summaries\n",
    "\n",
    "\n",
    "#делим наш набор по классам и считаем attributes_count\n",
    "def attributes_by_class(dataset):\n",
    "    classed = separate_by_class(dataset)\n",
    "    result = dict()\n",
    "    for class_value, rows in classed.items():\n",
    "        result[class_value] = attributes_count(rows)\n",
    "    return result\n",
    "\n",
    "#вычисляем Гауссовскую функцию плотности вероятности\n",
    "def calculate_prob(x, mean, standart_deviation):\n",
    "    exponent = exp(-((x - mean) ** 2 / (2 * standart_deviation ** 2)))\n",
    "    return (1 / (sqrt(2 * pi) * standart_deviation)) * exponent\n",
    "\n",
    "#отображение значений классов на вероятности\n",
    "def class_probs(summaries, row):\n",
    "    total_rows = sum([summaries[label][0][2] for label in summaries])\n",
    "    probabilities = dict()\n",
    "    for class_value, class_summaries in summaries.items():\n",
    "        probabilities[class_value] = summaries[class_value][0][2] / float(total_rows)\n",
    "        for i in range(len(class_summaries)):\n",
    "            mean, standart_deviation, _ = class_summaries[i]\n",
    "            probabilities[class_value] *= calculate_prob(row[i], mean, standart_deviation)\n",
    "    return probabilities\n",
    "\n",
    "#делаем предсказание\n",
    "def predict(summaries, row):\n",
    "    probabilities = class_probs(summaries, row)\n",
    "    best_label, best_prob = None, -1\n",
    "    for class_value, probability in probabilities.items():\n",
    "        if best_label is None or probability > best_prob:\n",
    "            best_prob = probability\n",
    "            best_label = class_value\n",
    "    return best_label"
   ]
  },
  {
   "cell_type": "markdown",
   "metadata": {
    "colab": {
     "base_uri": "https://localhost:8080/",
     "height": 1000
    },
    "id": "0U7R5bUXuvqh",
    "outputId": "6b46cd0b-ae73-48b6-9e97-cda5553c69b5"
   },
   "source": [
    "Подгружаем данные и переводим их в удобный формат:"
   ]
  },
  {
   "cell_type": "code",
   "execution_count": null,
   "metadata": {
    "colab": {
     "base_uri": "https://localhost:8080/",
     "height": 1000
    },
    "id": "0U7R5bUXuvqh",
    "outputId": "6b46cd0b-ae73-48b6-9e97-cda5553c69b5"
   },
   "outputs": [],
   "source": [
    "dataframe = pd.read_csv('https://raw.githubusercontent.com/jbrownlee/Datasets/master/pima-indians-diabetes.csv',\n",
    "                        header=None)\n",
    "dataframe.columns = ['Times pregnant', 'Glucose concentration', 'Blood pressure', 'Skinfold thickness', 'serum insulin',\n",
    "                     'BMI', 'Pedigree', 'Age', 'Class']\n",
    "X = dataframe.iloc[:, :-1].values\n",
    "Y = dataframe.iloc[:, 8].values\n",
    "Z = dataframe.iloc[:, :].values\n",
    "Z_train, Z_test = train_test_split(Z, test_size=0.2, random_state=0)"
   ]
  },
  {
   "cell_type": "markdown",
   "metadata": {
    "colab": {
     "base_uri": "https://localhost:8080/",
     "height": 1000
    },
    "id": "0U7R5bUXuvqh",
    "outputId": "6b46cd0b-ae73-48b6-9e97-cda5553c69b5"
   },
   "source": [
    "Вывод результатов и сами рассчеты для метода реализации через sklearn:"
   ]
  },
  {
   "cell_type": "code",
   "execution_count": null,
   "metadata": {
    "colab": {
     "base_uri": "https://localhost:8080/",
     "height": 1000
    },
    "id": "0U7R5bUXuvqh",
    "outputId": "6b46cd0b-ae73-48b6-9e97-cda5553c69b5"
   },
   "outputs": [],
   "source": [
    "X_train, X_test, Y_train, Y_test = train_test_split(X, Y, test_size=0.2, random_state=0)\n",
    "gnb = GaussianNB()\n",
    "Y_pred = gnb.fit(X_train, Y_train).predict(X_test)\n",
    "\n",
    "standart_success = 0\n",
    "my_success = 0\n",
    "for i, j in zip(Y_test, Y_pred):\n",
    "    if i == j:\n",
    "        standart_success += 1\n",
    "print(\"Статистика для стандартной реализации:\\n\", standart_success / len(Y_pred))"
   ]
  },
  {
   "cell_type": "markdown",
   "metadata": {
    "colab": {
     "base_uri": "https://localhost:8080/",
     "height": 1000
    },
    "id": "0U7R5bUXuvqh",
    "outputId": "6b46cd0b-ae73-48b6-9e97-cda5553c69b5"
   },
   "source": [
    "Вывод и подсчет результатов для самостоятельно реализованного алгоритма:"
   ]
  },
  {
   "cell_type": "code",
   "execution_count": null,
   "metadata": {
    "colab": {
     "base_uri": "https://localhost:8080/",
     "height": 1000
    },
    "id": "0U7R5bUXuvqh",
    "outputId": "6b46cd0b-ae73-48b6-9e97-cda5553c69b5"
   },
   "outputs": [],
   "source": [
    "model = attributes_by_class(Z_train)\n",
    "for i in Z_test:\n",
    "    if i[-1] == predict(model, i):\n",
    "        my_success += 1\n",
    "\n",
    "print(\"Статистика для моей реализации:\\n\", my_success / len(Z_test))"
   ]
  },
  {
   "cell_type": "markdown",
   "metadata": {
    "colab": {
     "base_uri": "https://localhost:8080/",
     "height": 1000
    },
    "id": "0U7R5bUXuvqh",
    "outputId": "6b46cd0b-ae73-48b6-9e97-cda5553c69b5"
   },
   "source": [
    "Вывод статистических данных для атрибутов:"
   ]
  },
  {
   "cell_type": "code",
   "execution_count": 14,
   "metadata": {
    "colab": {
     "base_uri": "https://localhost:8080/",
     "height": 1000
    },
    "id": "0U7R5bUXuvqh",
    "outputId": "6b46cd0b-ae73-48b6-9e97-cda5553c69b5",
    "scrolled": true
   },
   "outputs": [
    {
     "data": {
      "text/plain": [
       "array([[<AxesSubplot:title={'center':'Age'}>,\n",
       "        <AxesSubplot:title={'center':'BMI'}>,\n",
       "        <AxesSubplot:title={'center':'serum insulin'}>],\n",
       "       [<AxesSubplot:title={'center':'Pedigree'}>,\n",
       "        <AxesSubplot:title={'center':'Times pregnant'}>,\n",
       "        <AxesSubplot:title={'center':'Glucose concentration'}>],\n",
       "       [<AxesSubplot:title={'center':'Skinfold thickness'}>,\n",
       "        <AxesSubplot:title={'center':'Blood pressure'}>, <AxesSubplot:>]],\n",
       "      dtype=object)"
      ]
     },
     "execution_count": 14,
     "metadata": {},
     "output_type": "execute_result"
    },
    {
     "data": {
      "image/png": "[encoded data removed]",
      "text/plain": [
       "<Figure size 1440x864 with 9 Axes>"
      ]
     },
     "metadata": {
      "needs_background": "light"
     },
     "output_type": "display_data"
    }
   ],
   "source": [
    "features = list(set(dataframe.columns) - {'Class'})\n",
    "\n",
    "dataframe[features].hist(figsize=(20,12))"
   ]
  },
  {
   "cell_type": "code",
   "execution_count": null,
   "metadata": {
    "id": "_x09LriCFtfc"
   },
   "outputs": [],
   "source": []
  },
  {
   "cell_type": "code",
   "execution_count": null,
   "metadata": {},
   "outputs": [],
   "source": []
  },
  {
   "cell_type": "code",
   "execution_count": null,
   "metadata": {},
   "outputs": [],
   "source": []
  },
  {
   "cell_type": "code",
   "execution_count": null,
   "metadata": {},
   "outputs": [],
   "source": []
  },
  {
   "cell_type": "code",
   "execution_count": null,
   "metadata": {},
   "outputs": [],
   "source": []
  }
 ],
 "metadata": {
  "colab": {
   "collapsed_sections": [],
   "name": "ML1.ipynb",
   "provenance": []
  },
  "kernelspec": {
   "display_name": "Python 3",
   "language": "python",
   "name": "python3"
  },
  "language_info": {
   "codemirror_mode": {
    "name": "ipython",
    "version": 3
   },
   "file_extension": ".py",
   "mimetype": "text/x-python",
   "name": "python",
   "nbconvert_exporter": "python",
   "pygments_lexer": "ipython3",
   "version": "3.8.5"
  }
 },
 "nbformat": 4,
 "nbformat_minor": 1
}
