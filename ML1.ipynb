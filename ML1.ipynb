{
  "nbformat": 4,
  "nbformat_minor": 0,
  "metadata": {
    "colab": {
      "name": "ML1.ipynb",
      "provenance": [],
      "collapsed_sections": []
    },
    "kernelspec": {
      "display_name": "Python 3",
      "language": "python",
      "name": "python3"
    },
    "language_info": {
      "codemirror_mode": {
        "name": "ipython",
        "version": 3
      },
      "file_extension": ".py",
      "mimetype": "text/x-python",
      "name": "python",
      "nbconvert_exporter": "python",
      "pygments_lexer": "ipython3",
      "version": "3.8.5"
    }
  },
  "cells": [
    {
      "cell_type": "markdown",
      "metadata": {
        "id": "Hq0wc3K0kBqA"
      },
      "source": [
        "# Лабораторная работа 1 по МО"
      ]
    },
    {
      "cell_type": "markdown",
      "metadata": {
        "id": "LcA5dTQVVYBE"
      },
      "source": [
        "Выбранный набор данных позволяет нам предсказать вероятность появления диабета у инидийских пим в течение 5 лет, исходя из различных медицинских параметров."
      ]
    },
    {
      "cell_type": "code",
      "metadata": {
        "id": "ilk6dPgrVYBG",
        "outputId": "14d9bf58-5a02-48d6-828a-f3e59127f71b",
        "colab": {
          "base_uri": "https://localhost:8080/"
        }
      },
      "source": [
        "import pandas as pd\n",
        "dataframe = pd.read_csv('https://raw.githubusercontent.com/jbrownlee/Datasets/master/pima-indians-diabetes.csv', header=None)\n",
        "dataframe.columns = ['Times pregnant', 'Glucose concentration', 'Blood pressure', 'Skinfold thickness', 'Serum insulin',\n",
        "                     'BMI', 'Pedigree', 'Age', 'Class']\n",
        "print(dataframe[dataframe == 0].count(axis=0)/len(dataframe.index))"
      ],
      "execution_count": 21,
      "outputs": [
        {
          "output_type": "stream",
          "text": [
            "Times pregnant           0.144531\n",
            "Glucose concentration    0.006510\n",
            "Blood pressure           0.045573\n",
            "Skinfold thickness       0.295573\n",
            "Serum insulin            0.486979\n",
            "BMI                      0.014323\n",
            "Pedigree                 0.000000\n",
            "Age                      0.000000\n",
            "Class                    0.651042\n",
            "dtype: float64\n"
          ],
          "name": "stdout"
        }
      ]
    },
    {
      "cell_type": "markdown",
      "metadata": {
        "id": "0FT2VCWGVYBJ"
      },
      "source": [
        "Как можно заметить многие данные в таблице отсутствуют, но при этом важно отметить, что например отсутствие беременностей является важным статистическим параметром и его не стоит исключать из рассмотрения при этом параметр Serum insulin в половине случаев не имеет о себе данных и его следует исключить из рассмотрения, как и параметр Skinfold thickness, т.к. его данные отсутствуют в трети случаев."
      ]
    },
    {
      "cell_type": "markdown",
      "metadata": {
        "id": "p2205dhIVYBK"
      },
      "source": [
        "Удаляем ненужные столбцы"
      ]
    },
    {
      "cell_type": "code",
      "metadata": {
        "id": "sTNuLF55VYBK"
      },
      "source": [
        "del dataframe['Skinfold thickness']\n",
        "del dataframe['Serum insulin']"
      ],
      "execution_count": 22,
      "outputs": []
    },
    {
      "cell_type": "markdown",
      "metadata": {
        "id": "3Wvjfnb5VYBL"
      },
      "source": [
        "При этом у нас всё ещё остаются недостающие данные в других атрибутах.Заменим их на стандартное оклонение по столбцам."
      ]
    },
    {
      "cell_type": "code",
      "metadata": {
        "id": "IOeowMo0VYBL",
        "outputId": "4f69585c-dcad-4ee1-bf0f-7d2288cb3214",
        "colab": {
          "base_uri": "https://localhost:8080/"
        }
      },
      "source": [
        "dataframe['Glucose concentration'] = dataframe['Glucose concentration'].replace(0, dataframe['Glucose concentration'].std())\n",
        "dataframe['Blood pressure'] = dataframe['Blood pressure'].replace(0, dataframe['Blood pressure'].std())\n",
        "dataframe['BMI'] = dataframe['BMI'].replace(0, dataframe['BMI'].std())\n",
        "print(dataframe[dataframe == 0].count(axis=0)/len(dataframe.index))"
      ],
      "execution_count": 23,
      "outputs": [
        {
          "output_type": "stream",
          "text": [
            "Times pregnant           0.144531\n",
            "Glucose concentration    0.000000\n",
            "Blood pressure           0.000000\n",
            "BMI                      0.000000\n",
            "Pedigree                 0.000000\n",
            "Age                      0.000000\n",
            "Class                    0.651042\n",
            "dtype: float64\n"
          ],
          "name": "stdout"
        }
      ]
    },
    {
      "cell_type": "markdown",
      "metadata": {
        "id": "Mk6fUWmzVYBM"
      },
      "source": [
        "Вывод статистических данных для атрибутов:"
      ]
    },
    {
      "cell_type": "code",
      "metadata": {
        "id": "vJ2ZvALvVYBN",
        "outputId": "0dc37fe0-8ed1-45cd-ea04-f0f943122882",
        "colab": {
          "base_uri": "https://localhost:8080/"
        }
      },
      "source": [
        "print(dataframe.head())\n",
        "print(\"Размеры:\",dataframe.shape)\n",
        "print(\"Устройство:\\n\",dataframe.dtypes)"
      ],
      "execution_count": 24,
      "outputs": [
        {
          "output_type": "stream",
          "text": [
            "   Times pregnant  Glucose concentration  Blood pressure  ...  Pedigree  Age  Class\n",
            "0               6                  148.0            72.0  ...     0.627   50      1\n",
            "1               1                   85.0            66.0  ...     0.351   31      0\n",
            "2               8                  183.0            64.0  ...     0.672   32      1\n",
            "3               1                   89.0            66.0  ...     0.167   21      0\n",
            "4               0                  137.0            40.0  ...     2.288   33      1\n",
            "\n",
            "[5 rows x 7 columns]\n",
            "Размеры: (768, 7)\n",
            "Устройство:\n",
            " Times pregnant             int64\n",
            "Glucose concentration    float64\n",
            "Blood pressure           float64\n",
            "BMI                      float64\n",
            "Pedigree                 float64\n",
            "Age                        int64\n",
            "Class                      int64\n",
            "dtype: object\n"
          ],
          "name": "stdout"
        }
      ]
    },
    {
      "cell_type": "code",
      "metadata": {
        "id": "QMW99u0iVYBN",
        "outputId": "8c44f30d-c766-4465-a86f-7c900456416a",
        "colab": {
          "base_uri": "https://localhost:8080/",
          "height": 155
        }
      },
      "source": [
        "features = list(set(dataframe.columns))\n",
        "dataframe[features].hist(figsize=(20,10))\n",
        "pass"
      ],
      "execution_count": 25,
      "outputs": [
        {
          "output_type": "display_data",
          "data": {
            "image/png": "[encoded data removed]",
            "text/plain": [
              "<Figure size 1440x720 with 9 Axes>"
            ]
          },
          "metadata": {
            "tags": [],
            "needs_background": "light"
          }
        }
      ]
    },
    {
      "cell_type": "markdown",
      "metadata": {
        "id": "Lax_zTegVYBO"
      },
      "source": [
        "Можно заметить, что некоторые параметры распределены нормально:Blood pressure, Glucose concentration, BMI.\n",
        "Причем многие распределения похожи на экспоненциальное распределение:Pedigree, Age, Times pregnant."
      ]
    },
    {
      "cell_type": "markdown",
      "metadata": {
        "id": "WZdVtfTZVYBP"
      },
      "source": [
        "####Алгоритм K-ближайших соседей"
      ]
    },
    {
      "cell_type": "markdown",
      "metadata": {
        "id": "0U7R5bUXuvqh",
        "outputId": "6b46cd0b-ae73-48b6-9e97-cda5553c69b5"
      },
      "source": [
        "Требуемые библиотеки для моей и стандартной реализации:\n",
        "    "
      ]
    },
    {
      "cell_type": "code",
      "metadata": {
        "id": "Lna2KVBrVYBQ"
      },
      "source": [
        "import math\n",
        "import numpy as np\n",
        "import matplotlib.pyplot as plt\n",
        "import pandas as pd\n",
        "import sklearn\n",
        "from sklearn import metrics  \n",
        "from sklearn.metrics import accuracy_score\n",
        "from sklearn.metrics import classification_report\n",
        "from sklearn.model_selection import train_test_split\n",
        "from sklearn.neighbors import KNeighborsClassifier\n",
        "from sklearn.preprocessing import MinMaxScaler"
      ],
      "execution_count": 26,
      "outputs": []
    },
    {
      "cell_type": "markdown",
      "metadata": {
        "outputId": "6b46cd0b-ae73-48b6-9e97-cda5553c69b5",
        "id": "39jYpp7WVYBQ"
      },
      "source": [
        "Реализация алгоритма K-ближайших соседей"
      ]
    },
    {
      "cell_type": "code",
      "metadata": {
        "id": "mQ0nowWpVYBR"
      },
      "source": [
        "def weighted_knn(data, p, k):\n",
        "    distance = []\n",
        "    for element in data:\n",
        "        euclidean_distance = math.sqrt(\n",
        "            (element[1][0] - p[0]) ** 2 + (element[1][1] - p[1]) ** 2 + (element[1][2] - p[2]) ** 2 + (element[1][3] - p[3]) ** 2 + (\n",
        "                    element[1][4] - p[4]) ** 2 + (element[1][5] - p[5]) ** 2)\n",
        "        distance.append((euclidean_distance, element[0]))\n",
        "    distance = sorted(distance)[:k]\n",
        "    freq1 = 0\n",
        "    freq2 = 0\n",
        "    for d in distance:\n",
        "        if d[1] == 0:\n",
        "            freq1 += (1 / d[0])\n",
        "\n",
        "        elif d[1] == 1:\n",
        "            freq2 += (1 / d[0])\n",
        "\n",
        "    return 0 if freq1 > freq2 else 1"
      ],
      "execution_count": 27,
      "outputs": []
    },
    {
      "cell_type": "markdown",
      "metadata": {
        "outputId": "6b46cd0b-ae73-48b6-9e97-cda5553c69b5",
        "id": "d7Gf5YLQVYBS"
      },
      "source": [
        "Подгружаем данные и переводим их в удобный формат:\n",
        "    "
      ]
    },
    {
      "cell_type": "code",
      "metadata": {
        "id": "VKpZhV8gVYBS"
      },
      "source": [
        "X = dataframe.iloc[:, :-1].values\n",
        "Y = dataframe.iloc[:, 6].values\n",
        "k = 37"
      ],
      "execution_count": 28,
      "outputs": []
    },
    {
      "cell_type": "markdown",
      "metadata": {
        "outputId": "6b46cd0b-ae73-48b6-9e97-cda5553c69b5",
        "id": "92s97Tc0VYBS"
      },
      "source": [
        "Разделяем данные на тестовую и обучающие выборки:\n",
        "    "
      ]
    },
    {
      "cell_type": "code",
      "metadata": {
        "id": "sClGXIJsVYBT"
      },
      "source": [
        "X_train, X_test, Y_train, Y_test = train_test_split(X, Y, test_size=0.2,  random_state=0)\n",
        "trans = MinMaxScaler()"
      ],
      "execution_count": 29,
      "outputs": []
    },
    {
      "cell_type": "markdown",
      "metadata": {
        "outputId": "6b46cd0b-ae73-48b6-9e97-cda5553c69b5",
        "id": "AdMAYmYQVYBT"
      },
      "source": [
        "Нормализуем данные:"
      ]
    },
    {
      "cell_type": "code",
      "metadata": {
        "id": "Q7m9rYixVYBU"
      },
      "source": [
        "X_train = trans.fit_transform(X_train)\n",
        "X_test = trans.fit_transform(X_test)"
      ],
      "execution_count": 30,
      "outputs": []
    },
    {
      "cell_type": "markdown",
      "metadata": {
        "outputId": "6b46cd0b-ae73-48b6-9e97-cda5553c69b5",
        "id": "D8Jk7HXSVYBU"
      },
      "source": [
        "Переводим данные в удобный формат:"
      ]
    },
    {
      "cell_type": "code",
      "metadata": {
        "id": "-mli55dmVYBU"
      },
      "source": [
        "df_listed_train = list(zip(Y_train, X_train))\n",
        "df_listed_test = list(zip(Y_test, X_test))"
      ],
      "execution_count": 31,
      "outputs": []
    },
    {
      "cell_type": "markdown",
      "metadata": {
        "outputId": "6b46cd0b-ae73-48b6-9e97-cda5553c69b5",
        "id": "rNXmvPRpVYBV"
      },
      "source": [
        "Стандартная реализация через sklearn"
      ]
    },
    {
      "cell_type": "code",
      "metadata": {
        "colab": {
          "base_uri": "https://localhost:8080/"
        },
        "id": "Bpe9JL6_VYBV",
        "outputId": "12912d3f-f63b-4813-f311-0bc5554a55a9"
      },
      "source": [
        "classifier = KNeighborsClassifier(metric = 'minkowski', p = 2, n_neighbors=k)\n",
        "classifier.fit(X_train, Y_train)\n",
        "Y_pred = classifier.predict(X_test)\n",
        "accuracy = metrics.accuracy_score(Y_pred,Y_test)   \n",
        "print(\"Статистика для стандартной реализации:\\n\", accuracy, \"при k =\", k)"
      ],
      "execution_count": 32,
      "outputs": [
        {
          "output_type": "stream",
          "text": [
            "Статистика для стандартной реализации:\n",
            " 0.8376623376623377 при k = 37\n"
          ],
          "name": "stdout"
        }
      ]
    },
    {
      "cell_type": "markdown",
      "metadata": {
        "outputId": "6b46cd0b-ae73-48b6-9e97-cda5553c69b5",
        "id": "O9vv5sDtVYBW"
      },
      "source": [
        "Проверка собственной реализации:\n",
        "    "
      ]
    },
    {
      "cell_type": "code",
      "metadata": {
        "colab": {
          "base_uri": "https://localhost:8080/"
        },
        "id": "zcp1XhV6VYBW",
        "outputId": "47374a21-0c51-4ff4-b0f1-2267e5c173ec"
      },
      "source": [
        "My_success = 0\n",
        "for element in df_listed_test:\n",
        "    if element[0] == weighted_knn(df_listed_train, element[1], k):\n",
        "        My_success += 1       \n",
        "print(\"Вероятность успеха реализованным мной методом:\", My_success / len(df_listed_test), \"при k =\", k)"
      ],
      "execution_count": 33,
      "outputs": [
        {
          "output_type": "stream",
          "text": [
            "Вероятность успеха реализованным мной методом: 0.8311688311688312 при k = 37\n"
          ],
          "name": "stdout"
        }
      ]
    },
    {
      "cell_type": "markdown",
      "metadata": {
        "outputId": "6b46cd0b-ae73-48b6-9e97-cda5553c69b5",
        "id": "oCKYkjnbVYBX"
      },
      "source": [
        "Рассмотрим график зависимости ошибки от значения k:"
      ]
    },
    {
      "cell_type": "code",
      "metadata": {
        "colab": {
          "base_uri": "https://localhost:8080/",
          "height": 160
        },
        "scrolled": false,
        "id": "ohON7Xz4VYBX",
        "outputId": "71c10eb1-2a96-49bc-b2ed-35e217bf2171"
      },
      "source": [
        "error = []\n",
        "for i in range(1, 40):\n",
        "    knn = KNeighborsClassifier(n_neighbors=i)\n",
        "    knn.fit(X_train, Y_train)\n",
        "    pred_i = knn.predict(X_test)\n",
        "    error.append(np.mean(pred_i != Y_test))\n",
        "plt.figure(figsize=(12, 6))\n",
        "plt.plot(range(1, 40), error, color='red', linestyle='dashed', marker='o',\n",
        "         markerfacecolor='blue', markersize=10)\n",
        "plt.title('Error Rate K Value')\n",
        "plt.xlabel('K Value')\n",
        "plt.ylabel('Mean Error')\n",
        "pass"
      ],
      "execution_count": 34,
      "outputs": [
        {
          "output_type": "display_data",
          "data": {
            "image/png": "[encoded data removed]",
            "text/plain": [
              "<Figure size 864x432 with 1 Axes>"
            ]
          },
          "metadata": {
            "tags": [],
            "needs_background": "light"
          }
        }
      ]
    },
    {
      "cell_type": "markdown",
      "metadata": {
        "outputId": "6b46cd0b-ae73-48b6-9e97-cda5553c69b5",
        "id": "7Z2KbpX8VYBZ"
      },
      "source": [
        "Как можем заметить ошибка наименее вероятна при кол-ве соседей равным 37."
      ]
    },
    {
      "cell_type": "markdown",
      "metadata": {
        "outputId": "6b46cd0b-ae73-48b6-9e97-cda5553c69b5",
        "id": "9qTLqYy0VYBZ"
      },
      "source": [
        "####Алгоритм наивного Байесовского классификатора"
      ]
    },
    {
      "cell_type": "markdown",
      "metadata": {
        "outputId": "6b46cd0b-ae73-48b6-9e97-cda5553c69b5",
        "id": "2My2Z1_NVYBa"
      },
      "source": [
        "Требуемые библиотеки для моей и стандартной реализации:"
      ]
    },
    {
      "cell_type": "code",
      "metadata": {
        "id": "eh8A6hZGVYBa"
      },
      "source": [
        "from math import sqrt\n",
        "from math import exp\n",
        "from math import pi\n",
        "import random\n",
        "import pandas as pd\n",
        "import sklearn\n",
        "from sklearn.metrics import classification_report, accuracy_score\n",
        "from sklearn.model_selection import train_test_split\n",
        "from sklearn.naive_bayes import GaussianNB"
      ],
      "execution_count": 35,
      "outputs": []
    },
    {
      "cell_type": "markdown",
      "metadata": {
        "outputId": "6b46cd0b-ae73-48b6-9e97-cda5553c69b5",
        "id": "xiqLQFCiVYBb"
      },
      "source": [
        "Функции для реализации наивного Байесовского классификатора:"
      ]
    },
    {
      "cell_type": "code",
      "metadata": {
        "id": "nWvcY6tbVYBb"
      },
      "source": [
        "#разделяем обучающий набор по классам\n",
        "def separate_by_class(dataset):\n",
        "    tmp_dictionary = dict()\n",
        "    for i in range(len(dataset)):\n",
        "        vector = dataset[i]\n",
        "        class_type = vector[-1]\n",
        "        if (class_type not in tmp_dictionary):\n",
        "            tmp_dictionary[class_type] = list()\n",
        "        tmp_dictionary[class_type].append(vector)\n",
        "    return tmp_dictionary\n",
        "\n",
        "#рассчет среднего для атрибутов\n",
        "def mean(numbers):\n",
        "    return sum(numbers) / float(len(numbers))\n",
        "\n",
        "#рассчет стандартного отклонения\n",
        "def standart_deviation(numbers):\n",
        "    avg = mean(numbers)\n",
        "    variance = sum([(x - avg) ** 2 for x in numbers]) / float(len(numbers) - 1)\n",
        "    return sqrt(variance)\n",
        "\n",
        "#рассчет mean и standart_deviation для атрибутов\n",
        "def attributes_count(dataset):\n",
        "    summaries = [(mean(column), standart_deviation(column), len(column)) for column in zip(*dataset)]\n",
        "    del (summaries[-1])\n",
        "    return summaries\n",
        "\n",
        "\n",
        "#делим наш набор по классам и считаем attributes_count\n",
        "def attributes_by_class(dataset):\n",
        "    classed = separate_by_class(dataset)\n",
        "    result = dict()\n",
        "    for class_value, rows in classed.items():\n",
        "        result[class_value] = attributes_count(rows)\n",
        "    return result\n",
        "\n",
        "#вычисляем Гауссовскую функцию плотности вероятности\n",
        "def calculate_prob(x, mean, standart_deviation):\n",
        "    exponent = exp(-((x - mean) ** 2 / (2 * standart_deviation ** 2)))\n",
        "    return (1 / (sqrt(2 * pi) * standart_deviation)) * exponent\n",
        "\n",
        "#отображение значений классов на вероятности\n",
        "def class_probs(summaries, row):\n",
        "    total_rows = sum([summaries[label][0][2] for label in summaries])\n",
        "    probabilities = dict()\n",
        "    for class_value, class_summaries in summaries.items():\n",
        "        probabilities[class_value] = summaries[class_value][0][2] / float(total_rows)\n",
        "        for i in range(len(class_summaries)):\n",
        "            mean, standart_deviation, _ = class_summaries[i]\n",
        "            probabilities[class_value] *= calculate_prob(row[i], mean, standart_deviation)\n",
        "    return probabilities\n",
        "\n",
        "#делаем предсказание\n",
        "def predict(summaries, row):\n",
        "    probabilities = class_probs(summaries, row)\n",
        "    best_label, best_prob = None, -1\n",
        "    for class_value, probability in probabilities.items():\n",
        "        if best_label is None or probability > best_prob:\n",
        "            best_prob = probability\n",
        "            best_label = class_value\n",
        "    return best_label"
      ],
      "execution_count": 36,
      "outputs": []
    },
    {
      "cell_type": "markdown",
      "metadata": {
        "outputId": "6b46cd0b-ae73-48b6-9e97-cda5553c69b5",
        "id": "IjiK5-93VYBd"
      },
      "source": [
        "Подгружаем данные и переводим их в удобный формат:"
      ]
    },
    {
      "cell_type": "code",
      "metadata": {
        "id": "4M-NZbkkVYBd"
      },
      "source": [
        "X = dataframe.iloc[:, :-1].values\n",
        "Y = dataframe.iloc[:, 6].values\n",
        "Z = dataframe.iloc[:, :].values\n",
        "Z_train, Z_test = train_test_split(Z, test_size=0.2, random_state=0)"
      ],
      "execution_count": 37,
      "outputs": []
    },
    {
      "cell_type": "markdown",
      "metadata": {
        "outputId": "6b46cd0b-ae73-48b6-9e97-cda5553c69b5",
        "id": "WYjrtUZ3VYBd"
      },
      "source": [
        "Вывод результатов и сами рассчеты для метода реализации через sklearn:"
      ]
    },
    {
      "cell_type": "code",
      "metadata": {
        "colab": {
          "base_uri": "https://localhost:8080/"
        },
        "id": "-_RpddM-VYBd",
        "outputId": "ed7be70e-bde5-4346-9160-78dc241ab001"
      },
      "source": [
        "X_train, X_test, Y_train, Y_test = train_test_split(X, Y, test_size=0.2, random_state=0)\n",
        "gnb = GaussianNB()\n",
        "Y_pred = gnb.fit(X_train, Y_train).predict(X_test)\n",
        "\n",
        "standart_success = 0\n",
        "my_success = 0\n",
        "for i, j in zip(Y_test, Y_pred):\n",
        "    if i == j:\n",
        "        standart_success += 1\n",
        "print(\"Статистика для стандартной реализации:\\n\", standart_success / len(Y_pred))"
      ],
      "execution_count": 38,
      "outputs": [
        {
          "output_type": "stream",
          "text": [
            "Статистика для стандартной реализации:\n",
            " 0.7987012987012987\n"
          ],
          "name": "stdout"
        }
      ]
    },
    {
      "cell_type": "markdown",
      "metadata": {
        "outputId": "6b46cd0b-ae73-48b6-9e97-cda5553c69b5",
        "id": "NAWcel5mVYBe"
      },
      "source": [
        "Вывод и подсчет результатов для самостоятельно реализованного алгоритма:"
      ]
    },
    {
      "cell_type": "code",
      "metadata": {
        "colab": {
          "base_uri": "https://localhost:8080/"
        },
        "id": "FKH-F14gVYBf",
        "outputId": "a3dc0489-d24a-4ad2-a73f-d72daff76b13"
      },
      "source": [
        "model = attributes_by_class(Z_train)\n",
        "for i in Z_test:\n",
        "    if i[-1] == predict(model, i):\n",
        "        my_success += 1\n",
        "print(\"Статистика для моей реализации:\\n\", my_success / len(Z_test))"
      ],
      "execution_count": 39,
      "outputs": [
        {
          "output_type": "stream",
          "text": [
            "Статистика для моей реализации:\n",
            " 0.8051948051948052\n"
          ],
          "name": "stdout"
        }
      ]
    }
  ]
}