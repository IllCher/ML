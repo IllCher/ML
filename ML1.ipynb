{
 "cells": [
  {
   "cell_type": "markdown",
   "metadata": {
    "id": "Hq0wc3K0kBqA"
   },
   "source": [
    "# Лабораторная работа 1 по МО"
   ]
  },
  {
   "cell_type": "markdown",
   "metadata": {
    "id": "Hq0wc3K0kBqA"
   },
   "source": [
    "Выбранный набор данных позволяет нам предсказать вероятность появления диабета у инидийских пим в течение 5 лет, исходя из различных медицинских параметров."
   ]
  },
  {
   "cell_type": "code",
   "execution_count": 824,
   "metadata": {
    "id": "Hq0wc3K0kBqA"
   },
   "outputs": [
    {
     "data": {
      "text/html": [
       "<div>\n",
       "<style scoped>\n",
       "    .dataframe tbody tr th:only-of-type {\n",
       "        vertical-align: middle;\n",
       "    }\n",
       "\n",
       "    .dataframe tbody tr th {\n",
       "        vertical-align: top;\n",
       "    }\n",
       "\n",
       "    .dataframe thead th {\n",
       "        text-align: right;\n",
       "    }\n",
       "</style>\n",
       "<table border=\"1\" class=\"dataframe\">\n",
       "  <thead>\n",
       "    <tr style=\"text-align: right;\">\n",
       "      <th></th>\n",
       "      <th>Times pregnant</th>\n",
       "      <th>Glucose concentration</th>\n",
       "      <th>Blood pressure</th>\n",
       "      <th>Skinfold thickness</th>\n",
       "      <th>serum insulin</th>\n",
       "      <th>BMI</th>\n",
       "      <th>Pedigree</th>\n",
       "      <th>Age</th>\n",
       "      <th>Class</th>\n",
       "    </tr>\n",
       "  </thead>\n",
       "  <tbody>\n",
       "    <tr>\n",
       "      <th>0</th>\n",
       "      <td>6</td>\n",
       "      <td>148</td>\n",
       "      <td>72</td>\n",
       "      <td>35</td>\n",
       "      <td>0</td>\n",
       "      <td>33.6</td>\n",
       "      <td>0.627</td>\n",
       "      <td>50</td>\n",
       "      <td>1</td>\n",
       "    </tr>\n",
       "    <tr>\n",
       "      <th>1</th>\n",
       "      <td>1</td>\n",
       "      <td>85</td>\n",
       "      <td>66</td>\n",
       "      <td>29</td>\n",
       "      <td>0</td>\n",
       "      <td>26.6</td>\n",
       "      <td>0.351</td>\n",
       "      <td>31</td>\n",
       "      <td>0</td>\n",
       "    </tr>\n",
       "    <tr>\n",
       "      <th>2</th>\n",
       "      <td>8</td>\n",
       "      <td>183</td>\n",
       "      <td>64</td>\n",
       "      <td>0</td>\n",
       "      <td>0</td>\n",
       "      <td>23.3</td>\n",
       "      <td>0.672</td>\n",
       "      <td>32</td>\n",
       "      <td>1</td>\n",
       "    </tr>\n",
       "    <tr>\n",
       "      <th>3</th>\n",
       "      <td>1</td>\n",
       "      <td>89</td>\n",
       "      <td>66</td>\n",
       "      <td>23</td>\n",
       "      <td>94</td>\n",
       "      <td>28.1</td>\n",
       "      <td>0.167</td>\n",
       "      <td>21</td>\n",
       "      <td>0</td>\n",
       "    </tr>\n",
       "    <tr>\n",
       "      <th>4</th>\n",
       "      <td>0</td>\n",
       "      <td>137</td>\n",
       "      <td>40</td>\n",
       "      <td>35</td>\n",
       "      <td>168</td>\n",
       "      <td>43.1</td>\n",
       "      <td>2.288</td>\n",
       "      <td>33</td>\n",
       "      <td>1</td>\n",
       "    </tr>\n",
       "  </tbody>\n",
       "</table>\n",
       "</div>"
      ],
      "text/plain": [
       "   Times pregnant  Glucose concentration  Blood pressure  Skinfold thickness  \\\n",
       "0               6                    148              72                  35   \n",
       "1               1                     85              66                  29   \n",
       "2               8                    183              64                   0   \n",
       "3               1                     89              66                  23   \n",
       "4               0                    137              40                  35   \n",
       "\n",
       "   serum insulin   BMI  Pedigree  Age  Class  \n",
       "0              0  33.6     0.627   50      1  \n",
       "1              0  26.6     0.351   31      0  \n",
       "2              0  23.3     0.672   32      1  \n",
       "3             94  28.1     0.167   21      0  \n",
       "4            168  43.1     2.288   33      1  "
      ]
     },
     "execution_count": 824,
     "metadata": {},
     "output_type": "execute_result"
    }
   ],
   "source": [
    "import pandas as pd\n",
    "dataframe = pd.read_csv('https://raw.githubusercontent.com/jbrownlee/Datasets/master/pima-indians-diabetes.csv', header=None)\n",
    "dataframe.columns = ['Times pregnant', 'Glucose concentration', 'Blood pressure', 'Skinfold thickness', 'serum insulin',\n",
    "                     'BMI', 'Pedigree', 'Age', 'Class']\n",
    "dataframe.head()"
   ]
  },
  {
   "cell_type": "markdown",
   "metadata": {
    "id": "Hq0wc3K0kBqA"
   },
   "source": [
    "Вывод статистических данных для атрибутов:"
   ]
  },
  {
   "cell_type": "code",
   "execution_count": 825,
   "metadata": {
    "id": "Hq0wc3K0kBqA"
   },
   "outputs": [
    {
     "data": {
      "text/plain": [
       "array([[<AxesSubplot:title={'center':'Age'}>,\n",
       "        <AxesSubplot:title={'center':'BMI'}>,\n",
       "        <AxesSubplot:title={'center':'serum insulin'}>],\n",
       "       [<AxesSubplot:title={'center':'Class'}>,\n",
       "        <AxesSubplot:title={'center':'Pedigree'}>,\n",
       "        <AxesSubplot:title={'center':'Times pregnant'}>],\n",
       "       [<AxesSubplot:title={'center':'Glucose concentration'}>,\n",
       "        <AxesSubplot:title={'center':'Skinfold thickness'}>,\n",
       "        <AxesSubplot:title={'center':'Blood pressure'}>]], dtype=object)"
      ]
     },
     "execution_count": 825,
     "metadata": {},
     "output_type": "execute_result"
    },
    {
     "data": {
      "image/png": "[encoded data removed]",
      "text/plain": [
       "<Figure size 1440x864 with 9 Axes>"
      ]
     },
     "metadata": {
      "needs_background": "light"
     },
     "output_type": "display_data"
    }
   ],
   "source": [
    "dataframe.shape\n",
    "dataframe.dtypes\n",
    "features = list(set(dataframe.columns))\n",
    "dataframe[features].hist(figsize=(20,12))"
   ]
  },
  {
   "cell_type": "markdown",
   "metadata": {
    "id": "Hq0wc3K0kBqA"
   },
   "source": [
    "Можно заметить, что некоторые параметры распределены нормально:Blood pressure, Glucose concentration, BMI.\n",
    "Причем многие распределения похожи на экспоненциальное распределение:serum insulin, Pedigree, Age, Times pregnant."
   ]
  },
  {
   "cell_type": "markdown",
   "metadata": {
    "id": "Hq0wc3K0kBqA"
   },
   "source": [
    "####Алгоритм K-ближайших соседей"
   ]
  },
  {
   "cell_type": "markdown",
   "metadata": {
    "colab": {
     "base_uri": "https://localhost:8080/",
     "height": 1000
    },
    "id": "0U7R5bUXuvqh",
    "outputId": "6b46cd0b-ae73-48b6-9e97-cda5553c69b5"
   },
   "source": [
    "Требуемые библиотеки для моей и стандартной реализации:\n",
    "    "
   ]
  },
  {
   "cell_type": "code",
   "execution_count": 826,
   "metadata": {
    "colab": {
     "base_uri": "https://localhost:8080/",
     "height": 1000
    },
    "id": "0U7R5bUXuvqh",
    "outputId": "6b46cd0b-ae73-48b6-9e97-cda5553c69b5"
   },
   "outputs": [],
   "source": [
    "import math\n",
    "import numpy as np\n",
    "import matplotlib.pyplot as plt\n",
    "import pandas as pd\n",
    "import sklearn\n",
    "from sklearn import metrics  \n",
    "from sklearn.metrics import accuracy_score\n",
    "from sklearn.metrics import classification_report\n",
    "from sklearn.model_selection import train_test_split\n",
    "from sklearn.neighbors import KNeighborsClassifier"
   ]
  },
  {
   "cell_type": "markdown",
   "metadata": {
    "colab": {
     "base_uri": "https://localhost:8080/",
     "height": 1000
    },
    "id": "0U7R5bUXuvqh",
    "outputId": "6b46cd0b-ae73-48b6-9e97-cda5553c69b5"
   },
   "source": [
    "Реализация алгоритма K-ближайших соседей"
   ]
  },
  {
   "cell_type": "code",
   "execution_count": 827,
   "metadata": {
    "colab": {
     "base_uri": "https://localhost:8080/",
     "height": 1000
    },
    "id": "0U7R5bUXuvqh",
    "outputId": "6b46cd0b-ae73-48b6-9e97-cda5553c69b5"
   },
   "outputs": [],
   "source": [
    "def weighted_knn(data, p, k):\n",
    "    distance = []\n",
    "    for element in data:\n",
    "        euclidean_distance = math.sqrt(\n",
    "            (element[1][0] - p[0]) ** 2 + (element[1][1] - p[1]) ** 2 + (element[1][2] - p[2]) ** 2 + (element[1][3] - p[3]) ** 2 + (\n",
    "                    element[1][4] - p[4]) ** 2 + (element[1][5] - p[5]) ** 2 + (element[1][6] - p[6]) ** 2 + (element[1][7] - p[7]) ** 2)\n",
    "        distance.append((euclidean_distance, element[0]))\n",
    "    distance = sorted(distance)[:k]\n",
    "    freq1 = 0\n",
    "    freq2 = 0\n",
    "    for d in distance:\n",
    "        if d[1] == 0:\n",
    "            freq1 += (1 / d[0])\n",
    "\n",
    "        elif d[1] == 1:\n",
    "            freq2 += (1 / d[0])\n",
    "\n",
    "    return 0 if freq1 > freq2 else 1"
   ]
  },
  {
   "cell_type": "markdown",
   "metadata": {
    "colab": {
     "base_uri": "https://localhost:8080/",
     "height": 1000
    },
    "id": "0U7R5bUXuvqh",
    "outputId": "6b46cd0b-ae73-48b6-9e97-cda5553c69b5"
   },
   "source": [
    "Подгружаем данные и переводим их в удобный формат:\n",
    "    "
   ]
  },
  {
   "cell_type": "code",
   "execution_count": 828,
   "metadata": {
    "colab": {
     "base_uri": "https://localhost:8080/",
     "height": 1000
    },
    "id": "0U7R5bUXuvqh",
    "outputId": "6b46cd0b-ae73-48b6-9e97-cda5553c69b5"
   },
   "outputs": [],
   "source": [
    "dataframe = pd.read_csv('https://raw.githubusercontent.com/jbrownlee/Datasets/master/pima-indians-diabetes.csv',\n",
    "                        header=None)\n",
    "dataframe.columns = ['Times pregnant', 'Glucose concentration', 'Blood pressure', 'Skinfold thickness', 'serum insulin',\n",
    "                     'BMI', 'Pedigree', 'Age', 'Class']\n",
    "X = dataframe.iloc[:, :-1].values\n",
    "Y = dataframe.iloc[:, 8].values\n",
    "k = 18"
   ]
  },
  {
   "cell_type": "markdown",
   "metadata": {
    "colab": {
     "base_uri": "https://localhost:8080/",
     "height": 1000
    },
    "id": "0U7R5bUXuvqh",
    "outputId": "6b46cd0b-ae73-48b6-9e97-cda5553c69b5"
   },
   "source": [
    "Разделяем данные на тестовую и обучающие выборки и переводим их в удобный формат:\n",
    "    "
   ]
  },
  {
   "cell_type": "code",
   "execution_count": 829,
   "metadata": {
    "colab": {
     "base_uri": "https://localhost:8080/",
     "height": 1000
    },
    "id": "0U7R5bUXuvqh",
    "outputId": "6b46cd0b-ae73-48b6-9e97-cda5553c69b5"
   },
   "outputs": [],
   "source": [
    "X_train, X_test, Y_train, Y_test = train_test_split(X, Y, test_size=0.20)\n",
    "sklearn.preprocessing.normalize(X_train, norm='l1', axis=0, copy=True)\n",
    "sklearn.preprocessing.normalize(X_test, norm='l1', axis=0, copy=True)\n",
    "df_listed_train = list(zip(Y_train, X_train))\n",
    "df_listed_test = list(zip(Y_test, X_test))\n"
   ]
  },
  {
   "cell_type": "markdown",
   "metadata": {
    "colab": {
     "base_uri": "https://localhost:8080/",
     "height": 1000
    },
    "id": "0U7R5bUXuvqh",
    "outputId": "6b46cd0b-ae73-48b6-9e97-cda5553c69b5"
   },
   "source": [
    "Стандартная реализация через sklearn"
   ]
  },
  {
   "cell_type": "code",
   "execution_count": 830,
   "metadata": {
    "colab": {
     "base_uri": "https://localhost:8080/",
     "height": 1000
    },
    "id": "0U7R5bUXuvqh",
    "outputId": "6b46cd0b-ae73-48b6-9e97-cda5553c69b5"
   },
   "outputs": [
    {
     "name": "stdout",
     "output_type": "stream",
     "text": [
      "Статистика для стандартной реализации:\n",
      " 0.7445454545454544 при k = 33\n"
     ]
    }
   ],
   "source": [
    "k_max = -1\n",
    "accuracy_max = -1\n",
    "for i in range (1,50):\n",
    "    tmp_sum = 0\n",
    "    for j in range (1,50):\n",
    "        classifier = KNeighborsClassifier(metric = 'minkowski', p = 2, n_neighbors=i)\n",
    "        classifier.fit(X_train, Y_train)\n",
    "        Y_pred = classifier.predict(X_test)\n",
    "        tmp_sum += metrics.accuracy_score(Y_pred,Y_test)\n",
    "    avg_score = tmp_sum / 50\n",
    "    if avg_score > accuracy_max:\n",
    "        accuracy_max = avg_score\n",
    "        k_max = i\n",
    "print(\"Статистика для стандартной реализации:\\n\", accuracy_max, \"при k =\", k_max)"
   ]
  },
  {
   "cell_type": "markdown",
   "metadata": {
    "colab": {
     "base_uri": "https://localhost:8080/",
     "height": 1000
    },
    "id": "0U7R5bUXuvqh",
    "outputId": "6b46cd0b-ae73-48b6-9e97-cda5553c69b5"
   },
   "source": [
    "Проверка собственной реализации:\n",
    "    "
   ]
  },
  {
   "cell_type": "code",
   "execution_count": 831,
   "metadata": {
    "colab": {
     "base_uri": "https://localhost:8080/",
     "height": 1000
    },
    "id": "0U7R5bUXuvqh",
    "outputId": "6b46cd0b-ae73-48b6-9e97-cda5553c69b5"
   },
   "outputs": [
    {
     "name": "stdout",
     "output_type": "stream",
     "text": [
      "Вероятность успеха реализованным мной методом: 0.7467532467532467\n"
     ]
    }
   ],
   "source": [
    "My_success = 0\n",
    "for element in df_listed_test:\n",
    "    if element[0] == weighted_knn(df_listed_train, element[1], k):\n",
    "        My_success += 1\n",
    "print(\"Вероятность успеха реализованным мной методом:\", My_success / len(df_listed_test))"
   ]
  },
  {
   "cell_type": "markdown",
   "metadata": {
    "colab": {
     "base_uri": "https://localhost:8080/",
     "height": 1000
    },
    "id": "0U7R5bUXuvqh",
    "outputId": "6b46cd0b-ae73-48b6-9e97-cda5553c69b5"
   },
   "source": [
    "Рассмотрим график зависимости ошибки от значения k:"
   ]
  },
  {
   "cell_type": "code",
   "execution_count": 832,
   "metadata": {
    "colab": {
     "base_uri": "https://localhost:8080/",
     "height": 1000
    },
    "id": "0U7R5bUXuvqh",
    "outputId": "6b46cd0b-ae73-48b6-9e97-cda5553c69b5",
    "scrolled": false
   },
   "outputs": [
    {
     "data": {
      "text/plain": [
       "Text(0, 0.5, 'Mean Error')"
      ]
     },
     "execution_count": 832,
     "metadata": {},
     "output_type": "execute_result"
    },
    {
     "data": {
      "image/png": "[encoded data removed]",
      "text/plain": [
       "<Figure size 864x432 with 1 Axes>"
      ]
     },
     "metadata": {
      "needs_background": "light"
     },
     "output_type": "display_data"
    }
   ],
   "source": [
    "error = []\n",
    "for i in range(1, 40):\n",
    "    knn = KNeighborsClassifier(n_neighbors=i)\n",
    "    knn.fit(X_train, Y_train)\n",
    "    pred_i = knn.predict(X_test)\n",
    "    error.append(np.mean(pred_i != Y_test))\n",
    "plt.figure(figsize=(12, 6))\n",
    "plt.plot(range(1, 40), error, color='red', linestyle='dashed', marker='o',\n",
    "         markerfacecolor='blue', markersize=10)\n",
    "plt.title('Error Rate K Value')\n",
    "plt.xlabel('K Value')\n",
    "plt.ylabel('Mean Error')"
   ]
  },
  {
   "cell_type": "markdown",
   "metadata": {
    "colab": {
     "base_uri": "https://localhost:8080/",
     "height": 1000
    },
    "id": "0U7R5bUXuvqh",
    "outputId": "6b46cd0b-ae73-48b6-9e97-cda5553c69b5"
   },
   "source": [
    "Как можем заметить ошибка наименее вероятна при кол-ве соседей от 15 до 18."
   ]
  },
  {
   "cell_type": "markdown",
   "metadata": {
    "colab": {
     "base_uri": "https://localhost:8080/",
     "height": 1000
    },
    "id": "0U7R5bUXuvqh",
    "outputId": "6b46cd0b-ae73-48b6-9e97-cda5553c69b5"
   },
   "source": [
    "####Алгоритм наивного Байесовского классификатора"
   ]
  },
  {
   "cell_type": "markdown",
   "metadata": {
    "colab": {
     "base_uri": "https://localhost:8080/",
     "height": 1000
    },
    "id": "0U7R5bUXuvqh",
    "outputId": "6b46cd0b-ae73-48b6-9e97-cda5553c69b5"
   },
   "source": [
    "Требуемые библиотеки для моей и стандартной реализации:"
   ]
  },
  {
   "cell_type": "code",
   "execution_count": 833,
   "metadata": {
    "colab": {
     "base_uri": "https://localhost:8080/",
     "height": 1000
    },
    "id": "0U7R5bUXuvqh",
    "outputId": "6b46cd0b-ae73-48b6-9e97-cda5553c69b5"
   },
   "outputs": [],
   "source": [
    "from math import sqrt\n",
    "from math import exp\n",
    "from math import pi\n",
    "import random\n",
    "import pandas as pd\n",
    "import sklearn\n",
    "from sklearn.metrics import classification_report, accuracy_score\n",
    "from sklearn.model_selection import train_test_split\n",
    "from sklearn.naive_bayes import GaussianNB"
   ]
  },
  {
   "cell_type": "markdown",
   "metadata": {
    "colab": {
     "base_uri": "https://localhost:8080/",
     "height": 1000
    },
    "id": "0U7R5bUXuvqh",
    "outputId": "6b46cd0b-ae73-48b6-9e97-cda5553c69b5"
   },
   "source": [
    "Функции для реализации наивного Байесовского классификатора:"
   ]
  },
  {
   "cell_type": "code",
   "execution_count": 834,
   "metadata": {
    "colab": {
     "base_uri": "https://localhost:8080/",
     "height": 1000
    },
    "id": "0U7R5bUXuvqh",
    "outputId": "6b46cd0b-ae73-48b6-9e97-cda5553c69b5"
   },
   "outputs": [],
   "source": [
    "#разделяем обучающий набор по классам\n",
    "def separate_by_class(dataset):\n",
    "    tmp_dictionary = dict()\n",
    "    for i in range(len(dataset)):\n",
    "        vector = dataset[i]\n",
    "        class_type = vector[-1]\n",
    "        if (class_type not in tmp_dictionary):\n",
    "            tmp_dictionary[class_type] = list()\n",
    "        tmp_dictionary[class_type].append(vector)\n",
    "    return tmp_dictionary\n",
    "\n",
    "#рассчет среднего для атрибутов\n",
    "def mean(numbers):\n",
    "    return sum(numbers) / float(len(numbers))\n",
    "\n",
    "#рассчет стандартного отклонения\n",
    "def standart_deviation(numbers):\n",
    "    avg = mean(numbers)\n",
    "    variance = sum([(x - avg) ** 2 for x in numbers]) / float(len(numbers) - 1)\n",
    "    return sqrt(variance)\n",
    "\n",
    "#рассчет mean и standart_deviation для атрибутов\n",
    "def attributes_count(dataset):\n",
    "    summaries = [(mean(column), standart_deviation(column), len(column)) for column in zip(*dataset)]\n",
    "    del (summaries[-1])\n",
    "    return summaries\n",
    "\n",
    "\n",
    "#делим наш набор по классам и считаем attributes_count\n",
    "def attributes_by_class(dataset):\n",
    "    classed = separate_by_class(dataset)\n",
    "    result = dict()\n",
    "    for class_value, rows in classed.items():\n",
    "        result[class_value] = attributes_count(rows)\n",
    "    return result\n",
    "\n",
    "#вычисляем Гауссовскую функцию плотности вероятности\n",
    "def calculate_prob(x, mean, standart_deviation):\n",
    "    exponent = exp(-((x - mean) ** 2 / (2 * standart_deviation ** 2)))\n",
    "    return (1 / (sqrt(2 * pi) * standart_deviation)) * exponent\n",
    "\n",
    "#отображение значений классов на вероятности\n",
    "def class_probs(summaries, row):\n",
    "    total_rows = sum([summaries[label][0][2] for label in summaries])\n",
    "    probabilities = dict()\n",
    "    for class_value, class_summaries in summaries.items():\n",
    "        probabilities[class_value] = summaries[class_value][0][2] / float(total_rows)\n",
    "        for i in range(len(class_summaries)):\n",
    "            mean, standart_deviation, _ = class_summaries[i]\n",
    "            probabilities[class_value] *= calculate_prob(row[i], mean, standart_deviation)\n",
    "    return probabilities\n",
    "\n",
    "#делаем предсказание\n",
    "def predict(summaries, row):\n",
    "    probabilities = class_probs(summaries, row)\n",
    "    best_label, best_prob = None, -1\n",
    "    for class_value, probability in probabilities.items():\n",
    "        if best_label is None or probability > best_prob:\n",
    "            best_prob = probability\n",
    "            best_label = class_value\n",
    "    return best_label"
   ]
  },
  {
   "cell_type": "markdown",
   "metadata": {
    "colab": {
     "base_uri": "https://localhost:8080/",
     "height": 1000
    },
    "id": "0U7R5bUXuvqh",
    "outputId": "6b46cd0b-ae73-48b6-9e97-cda5553c69b5"
   },
   "source": [
    "Подгружаем данные и переводим их в удобный формат:"
   ]
  },
  {
   "cell_type": "code",
   "execution_count": 835,
   "metadata": {
    "colab": {
     "base_uri": "https://localhost:8080/",
     "height": 1000
    },
    "id": "0U7R5bUXuvqh",
    "outputId": "6b46cd0b-ae73-48b6-9e97-cda5553c69b5"
   },
   "outputs": [],
   "source": [
    "dataframe = pd.read_csv('https://raw.githubusercontent.com/jbrownlee/Datasets/master/pima-indians-diabetes.csv',\n",
    "                        header=None)\n",
    "dataframe.columns = ['Times pregnant', 'Glucose concentration', 'Blood pressure', 'Skinfold thickness', 'serum insulin',\n",
    "                     'BMI', 'Pedigree', 'Age', 'Class']\n",
    "#sklearn.preprocessing.normalize(dataframe, norm='l1', axis=0, copy=True)\n",
    "X = dataframe.iloc[:, :-1].values\n",
    "Y = dataframe.iloc[:, 8].values\n",
    "Z = dataframe.iloc[:, :].values\n",
    "Z_train, Z_test = train_test_split(Z, test_size=0.2, random_state=0)"
   ]
  },
  {
   "cell_type": "markdown",
   "metadata": {
    "colab": {
     "base_uri": "https://localhost:8080/",
     "height": 1000
    },
    "id": "0U7R5bUXuvqh",
    "outputId": "6b46cd0b-ae73-48b6-9e97-cda5553c69b5"
   },
   "source": [
    "Вывод результатов и сами рассчеты для метода реализации через sklearn:"
   ]
  },
  {
   "cell_type": "code",
   "execution_count": 836,
   "metadata": {
    "colab": {
     "base_uri": "https://localhost:8080/",
     "height": 1000
    },
    "id": "0U7R5bUXuvqh",
    "outputId": "6b46cd0b-ae73-48b6-9e97-cda5553c69b5"
   },
   "outputs": [
    {
     "name": "stdout",
     "output_type": "stream",
     "text": [
      "Статистика для стандартной реализации:\n",
      " 0.7922077922077922\n"
     ]
    }
   ],
   "source": [
    "X_train, X_test, Y_train, Y_test = train_test_split(X, Y, test_size=0.2, random_state=0)\n",
    "gnb = GaussianNB()\n",
    "Y_pred = gnb.fit(X_train, Y_train).predict(X_test)\n",
    "\n",
    "standart_success = 0\n",
    "my_success = 0\n",
    "for i, j in zip(Y_test, Y_pred):\n",
    "    if i == j:\n",
    "        standart_success += 1\n",
    "print(\"Статистика для стандартной реализации:\\n\", standart_success / len(Y_pred))"
   ]
  },
  {
   "cell_type": "markdown",
   "metadata": {
    "colab": {
     "base_uri": "https://localhost:8080/",
     "height": 1000
    },
    "id": "0U7R5bUXuvqh",
    "outputId": "6b46cd0b-ae73-48b6-9e97-cda5553c69b5"
   },
   "source": [
    "Вывод и подсчет результатов для самостоятельно реализованного алгоритма:"
   ]
  },
  {
   "cell_type": "code",
   "execution_count": 837,
   "metadata": {
    "colab": {
     "base_uri": "https://localhost:8080/",
     "height": 1000
    },
    "id": "0U7R5bUXuvqh",
    "outputId": "6b46cd0b-ae73-48b6-9e97-cda5553c69b5"
   },
   "outputs": [
    {
     "name": "stdout",
     "output_type": "stream",
     "text": [
      "Статистика для моей реализации:\n",
      " 0.7922077922077922\n"
     ]
    }
   ],
   "source": [
    "model = attributes_by_class(Z_train)\n",
    "for i in Z_test:\n",
    "    if i[-1] == predict(model, i):\n",
    "        my_success += 1\n",
    "\n",
    "print(\"Статистика для моей реализации:\\n\", my_success / len(Z_test))"
   ]
  }
 ],
 "metadata": {
  "colab": {
   "collapsed_sections": [],
   "name": "ML1.ipynb",
   "provenance": []
  },
  "kernelspec": {
   "display_name": "Python 3",
   "language": "python",
   "name": "python3"
  },
  "language_info": {
   "codemirror_mode": {
    "name": "ipython",
    "version": 3
   },
   "file_extension": ".py",
   "mimetype": "text/x-python",
   "name": "python",
   "nbconvert_exporter": "python",
   "pygments_lexer": "ipython3",
   "version": "3.8.5"
  }
 },
 "nbformat": 4,
 "nbformat_minor": 1
}
